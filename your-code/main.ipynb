{
  "cells": [
    {
      "cell_type": "markdown",
      "metadata": {
        "id": "aClIN8HI0_5Q"
      },
      "source": [
        "# Before your start:\n",
        "- Read the README.md file\n",
        "- Comment as much as you can and use the resources in the README.md file\n",
        "- Happy learning!\n"
      ]
    },
    {
      "cell_type": "code",
      "execution_count": null,
      "metadata": {
        "id": "GCS2zZru0_5U"
      },
      "outputs": [],
      "source": [
        "#Import your libraries\n"
      ]
    },
    {
      "cell_type": "markdown",
      "metadata": {
        "id": "oivuTurE0_5W"
      },
      "source": [
        "# Challenge 1 -  Explore the Internal Dataset\n",
        "\n",
        "In this lab, we will start off by working with the wine dataset in scikit-learn. We will select the wine dataset and use a clustering algorithm to learn more about the functionalities of this library. \n",
        "\n",
        "We start off by loading the dataset using the `load_wine` function ([documentation](https://scikit-learn.org/stable/modules/generated/sklearn.datasets.load_wine.html)). In the cell below, we will import the function from scikit-learn."
      ]
    },
    {
      "cell_type": "code",
      "execution_count": null,
      "metadata": {
        "id": "J_Tobwpm0_5W"
      },
      "outputs": [],
      "source": [
        "from sklearn.datasets import load_wine"
      ]
    },
    {
      "cell_type": "markdown",
      "metadata": {
        "id": "9GtWqd9H0_5W"
      },
      "source": [
        "In the cell below, use the `load_wine` function and assign the wine dataset to a variable called `wine`."
      ]
    },
    {
      "cell_type": "code",
      "execution_count": null,
      "metadata": {
        "id": "O2EJzX9c0_5X"
      },
      "outputs": [],
      "source": [
        "# Your code here:\n"
      ]
    },
    {
      "cell_type": "markdown",
      "metadata": {
        "id": "OXgaLJyF0_5X"
      },
      "source": [
        "In the next step, list the keys of the variable `wine` to examine its contents. Note that the `load_wine` function does not return dataframes. It returns you a Python dictionary."
      ]
    },
    {
      "cell_type": "code",
      "execution_count": null,
      "metadata": {
        "id": "2W4yxLLC0_5X"
      },
      "outputs": [],
      "source": [
        "# Your code here:\n"
      ]
    },
    {
      "cell_type": "markdown",
      "metadata": {
        "id": "7NaxmS310_5Y"
      },
      "source": [
        "Next, list the feature names. These are the different characteristics of the wine. "
      ]
    },
    {
      "cell_type": "code",
      "execution_count": null,
      "metadata": {
        "id": "I-y4Qlc-0_5Y"
      },
      "outputs": [],
      "source": [
        "# Your code here:\n"
      ]
    },
    {
      "cell_type": "markdown",
      "metadata": {
        "id": "CAUnnkUK0_5Z"
      },
      "source": [
        "Print the description of the dataset in the cell below using the `DESCR` attribute of the `wine` variable.\n",
        "\n",
        "*Hint: If your output is ill-formatted by displaying linebreaks as `\\n`, it means you are not using the print function.*"
      ]
    },
    {
      "cell_type": "code",
      "execution_count": null,
      "metadata": {
        "id": "1jF5cMGI0_5Z"
      },
      "outputs": [],
      "source": [
        "# Your code here:\n"
      ]
    },
    {
      "cell_type": "markdown",
      "metadata": {
        "id": "Z8D408AQ0_5Z"
      },
      "source": [
        "#### From the description, we see that all columns are numeric. We also know that there is no missing data \n",
        "\n",
        "Let's plot the alcohol content histogram. Recall that we are working with a numpy array and will need to use a matplotlib function to produce a histogram. "
      ]
    },
    {
      "cell_type": "code",
      "execution_count": null,
      "metadata": {
        "id": "akd9cfQH0_5Z"
      },
      "outputs": [],
      "source": [
        "# imports\n"
      ]
    },
    {
      "cell_type": "code",
      "execution_count": null,
      "metadata": {
        "id": "H5XGhm3A0_5a"
      },
      "outputs": [],
      "source": [
        "# Your code here:\n"
      ]
    },
    {
      "cell_type": "markdown",
      "metadata": {
        "id": "nnDK4nuh0_5a"
      },
      "source": [
        "# Challenge 2 - Clustering the Internal Dataset\n",
        "\n",
        "In this portion of the lab, we will cluster the data to find common traits between the different wines. We will use the k-means clustering algorithm to achieve this goal.\n",
        "\n",
        "#### We start by importing k-means from scikit-learn and then proceed to create 4 clusters."
      ]
    },
    {
      "cell_type": "code",
      "execution_count": null,
      "metadata": {
        "id": "s8OEL4A60_5a"
      },
      "outputs": [],
      "source": [
        "# imports\n"
      ]
    },
    {
      "cell_type": "code",
      "execution_count": null,
      "metadata": {
        "id": "fxf6pzoN0_5a"
      },
      "outputs": [],
      "source": [
        "# Your code here:\n"
      ]
    },
    {
      "cell_type": "markdown",
      "metadata": {
        "id": "v1tDEUd00_5b"
      },
      "source": [
        "#### Print the cluster labels."
      ]
    },
    {
      "cell_type": "code",
      "execution_count": null,
      "metadata": {
        "id": "2sQIAM4Z0_5b"
      },
      "outputs": [],
      "source": [
        "# Your code here:\n"
      ]
    },
    {
      "cell_type": "markdown",
      "metadata": {
        "id": "UpzX4-BH0_5b"
      },
      "source": [
        "#### Compute the size of each cluster. This can be done by counting the number of occurrences of each unique label in the list above.\n",
        "\n",
        "Which is the largest cluster of the 4?"
      ]
    },
    {
      "cell_type": "code",
      "execution_count": null,
      "metadata": {
        "id": "7fGciVgb0_5b"
      },
      "outputs": [],
      "source": [
        "# Your code here:\n"
      ]
    },
    {
      "cell_type": "code",
      "execution_count": null,
      "metadata": {
        "id": "IFQjk_710_5b"
      },
      "outputs": [],
      "source": [
        "# Your answer here:\n"
      ]
    },
    {
      "cell_type": "markdown",
      "metadata": {
        "id": "8nxr8G-E0_5b"
      },
      "source": [
        "#### Inspect the shape of `wine['data']`"
      ]
    },
    {
      "cell_type": "code",
      "execution_count": null,
      "metadata": {
        "id": "MT2xiYCJ0_5b"
      },
      "outputs": [],
      "source": [
        "# Your code here:\n"
      ]
    },
    {
      "cell_type": "markdown",
      "metadata": {
        "id": "zXCPvAgS0_5c"
      },
      "source": [
        "#### Inspect the first 5 records in `wine['data']`"
      ]
    },
    {
      "cell_type": "code",
      "execution_count": null,
      "metadata": {
        "id": "_ClkrclU0_5c"
      },
      "outputs": [],
      "source": [
        "# Your code here:\n"
      ]
    },
    {
      "cell_type": "markdown",
      "metadata": {
        "id": "J0eXnHhx0_5c"
      },
      "source": [
        "You now know the data object is a 2-dimensional array in which there are 178 rows and 13 columns. Each row is a data record and each column is a feature.\n",
        "\n",
        "#### What is the average ash content for each cluster? \n",
        "\n",
        "*Hints:* \n",
        "\n",
        "* *Ash* is the 3rd column.\n",
        "\n",
        "* The data object is not a Pandas dataframe so you can't apply `pandas.DataFrame.groupby`. Instead, you can use `np.average`."
      ]
    },
    {
      "cell_type": "code",
      "execution_count": null,
      "metadata": {
        "id": "64Kw3JLr0_5c"
      },
      "outputs": [],
      "source": [
        "# Your code here:\n"
      ]
    },
    {
      "cell_type": "markdown",
      "metadata": {
        "id": "ji5pW0NR0_5c"
      },
      "source": [
        "# Challenge 3 - Load and Explore an External Dataset\n",
        "\n",
        "We will now load an external dataset using Pandas and use scikit learn to explore the data. In this portion of the lab, we will use a [patient dataset from Kaggle](https://www.kaggle.com/miles99/patient-admission-dataset-for-learning-data-mining). "
      ]
    },
    {
      "cell_type": "code",
      "execution_count": null,
      "metadata": {
        "id": "VAOHDKvr0_5c"
      },
      "outputs": [],
      "source": [
        "patients = pd.read_csv('../patient-admission-dataset-for-learning-data-mining.csv')"
      ]
    },
    {
      "cell_type": "markdown",
      "metadata": {
        "id": "eeQTcMQC0_5c"
      },
      "source": [
        "In the next cell, print the first five rows of the data using the `head()` function."
      ]
    },
    {
      "cell_type": "code",
      "execution_count": null,
      "metadata": {
        "id": "CYIMW61B0_5d"
      },
      "outputs": [],
      "source": [
        "# Your code here:\n"
      ]
    },
    {
      "cell_type": "markdown",
      "metadata": {
        "id": "6NVdIqV-0_5d"
      },
      "source": [
        "Next, print the column types and check which columns have been misclassified by pandas."
      ]
    },
    {
      "cell_type": "code",
      "execution_count": null,
      "metadata": {
        "id": "8Q1q_pUT0_5d"
      },
      "outputs": [],
      "source": [
        "# Your code here:\n"
      ]
    },
    {
      "cell_type": "markdown",
      "metadata": {
        "id": "G5cPxhIp0_5d"
      },
      "source": [
        "#### We can see that none of the date columns have been correctly classified. Also, some columns contain qualitative data that can be dropped.\n",
        "\n",
        "First, transform the `patient_dob` and `appointment_date` columns to datetime using the `pd.to_datetime` function."
      ]
    },
    {
      "cell_type": "code",
      "execution_count": null,
      "metadata": {
        "id": "xVNBptyH0_5d"
      },
      "outputs": [],
      "source": [
        "# Your code here:\n"
      ]
    },
    {
      "cell_type": "markdown",
      "metadata": {
        "id": "DB1GHSdH0_5d"
      },
      "source": [
        "Next, drop the `id`, `patient_name`, `patient_email`, `patient_nhs_number`, and `doctor_phone` columns. These are not quantitative columns and will not contribute to our analysis."
      ]
    },
    {
      "cell_type": "code",
      "execution_count": null,
      "metadata": {
        "id": "HyFhATXO0_5d"
      },
      "outputs": [],
      "source": [
        "# Your code here:\n"
      ]
    },
    {
      "cell_type": "markdown",
      "metadata": {
        "id": "Dp78JVTJ0_5d"
      },
      "source": [
        "Now we work on the missing data. Most ML algorithms will not perform as intended if there are missing data.\n",
        "\n",
        "In the cell below, count how many rows contain missing data in each column. You should see three columns contain missing data:\n",
        "\n",
        "* `doctor_name`: 58 missing data\n",
        "* `prescribed_medicines`: 488 missing data\n",
        "* `diagnosis`: 488 missing data"
      ]
    },
    {
      "cell_type": "code",
      "execution_count": null,
      "metadata": {
        "id": "Q0XRXIS10_5e"
      },
      "outputs": [],
      "source": [
        "# Your code here:\n"
      ]
    },
    {
      "cell_type": "markdown",
      "metadata": {
        "id": "tVmJavtl0_5e"
      },
      "source": [
        "The main issues are found in the `prescribed_medicines` and `diagnosis` columns. Can we simply drop these rows?\n",
        "\n",
        "The answer is not yet. Because when there are missing data in these columns, it doesn't mean the data records are broken. Instead, it means no medication was prescribed and no diagnosis was recorded. Therefore, once we fill in the missing data these columns will be fine. But we'll revisit these columns and decide whether we will eventually drop them when we look at how many unique values are there in these categorical columns.  \n",
        "\n",
        "For the `prescribed_medicines` column, fill the missing values with the value `no prescription`. For the `diagnosis` column, fill the missing values with `no diagnosis`.\n",
        "\n",
        "*Hint: Use [`pandas.DataFrame.fillna`](https://pandas.pydata.org/pandas-docs/stable/generated/pandas.DataFrame.fillna.html).*"
      ]
    },
    {
      "cell_type": "code",
      "execution_count": null,
      "metadata": {
        "id": "IxE-9cxY0_5e"
      },
      "outputs": [],
      "source": [
        "# Your code here:\n"
      ]
    },
    {
      "cell_type": "markdown",
      "metadata": {
        "id": "fP-xx5Kq0_5e"
      },
      "source": [
        "How about `doctor_name`? Since a doctor visit without a doctor name might not be meaningful, we will drop these rows."
      ]
    },
    {
      "cell_type": "code",
      "execution_count": null,
      "metadata": {
        "id": "agljorTo0_5e"
      },
      "outputs": [],
      "source": [
        "# Your code here:\n"
      ]
    },
    {
      "cell_type": "markdown",
      "metadata": {
        "id": "4OtYJRM_0_5e"
      },
      "source": [
        "#### Another step in preprocessing that can be performed by scikit-learn is label encoding. \n",
        "\n",
        "We have 4 columns that are of `bool` type. We would like to convert them to an integer column containing either zero or one. We can do this using [scikit-learn's label encoder](https://scikit-learn.org/stable/modules/generated/sklearn.preprocessing.LabelEncoder.html).\n",
        "\n",
        "In the cell below, import the label encoder and encode the 4 boolean columns (*patient_diabetic*, *patient_allergic*, *patient_show*, *is_regular_visit*) with `0` and `1`. "
      ]
    },
    {
      "cell_type": "code",
      "execution_count": null,
      "metadata": {
        "id": "k9Ak-_Y50_5e"
      },
      "outputs": [],
      "source": [
        "# Your code here:\n"
      ]
    },
    {
      "cell_type": "markdown",
      "metadata": {
        "id": "NZYi_lR80_5f"
      },
      "source": [
        "Print the data dtypes to confirm those four `bool` columns are converted to `int64`."
      ]
    },
    {
      "cell_type": "code",
      "execution_count": null,
      "metadata": {
        "id": "nd4cwzf20_5f"
      },
      "outputs": [],
      "source": [
        "# Your code here:\n"
      ]
    },
    {
      "cell_type": "markdown",
      "metadata": {
        "id": "fqpI29fn0_5f"
      },
      "source": [
        "#### The last step is to handle the `object` data.\n",
        "\n",
        "There are 4 `object` columns now: `patient_gender`, `doctor_name`, `prescribed_medicines`, and `diagnosis`. The gender columns\n",
        "\n",
        "In the next cell, check the unique values of each of the `object` columns using `value_counts()`."
      ]
    },
    {
      "cell_type": "code",
      "execution_count": null,
      "metadata": {
        "scrolled": false,
        "id": "U8gfFvRE0_5f"
      },
      "outputs": [],
      "source": [
        "# Your code here:\n"
      ]
    },
    {
      "cell_type": "markdown",
      "metadata": {
        "id": "RK6byYUa0_5f"
      },
      "source": [
        "#### The number of unique values is large for all three columns except `patient_gender`. We will handle these columns differently.\n",
        "\n",
        "For `diagnosis`, there are too many unique values which will make ML difficult. However, we can re-encode the values to either with or without diagnosis. Remember at an earlier step we filled in the missing values of this column with *no diagnosis*? We can re-encode *no diagnosis* to `0` and all other values to `1`. In this way we can tremendously simply this column.\n",
        "\n",
        "For `prescribed_medicines`, we can drop this column because it is perfectly correlated with `diagnosis`. Whenever there is no diagnosis, there is no prescribed medicine. So we don't need to keep this duplicated data.\n",
        "\n",
        "How about `doctor_name`? There are not excessive unique values but still quite many (19). We may either drop or keep it but keeping it will make the analysis more complicated. So due to the length of this lab let's drop it.\n",
        "\n",
        "How about `gender`? This one is easy. Just like re-encoding the boolean values, we can re-encode gender to `0` and `1` because there are only 2 unique values.\n",
        "\n",
        "In the next cells, do the following:\n",
        "\n",
        "1. Create a new column called `diagnosis_int` that has `0` and `1` based on the values in `diagnosis`.\n",
        "\n",
        "1. Create a new column called `patient_gender_int` that has `0` and `1` based on the values in `patient_gender`.\n",
        "\n",
        "1. Drop the following columns: `doctor_name`, `diagnosis`, `prescribed_medicines`, and `patient_gender`."
      ]
    },
    {
      "cell_type": "code",
      "execution_count": null,
      "metadata": {
        "id": "kRT9UkXT0_5f"
      },
      "outputs": [],
      "source": [
        "# Your code here:\n"
      ]
    },
    {
      "cell_type": "markdown",
      "metadata": {
        "id": "DEV3sltg0_5f"
      },
      "source": [
        "Let's look at the head again to ensure the re-encoding and dropping are successful:"
      ]
    },
    {
      "cell_type": "code",
      "execution_count": null,
      "metadata": {
        "id": "blKkkKcE0_5f"
      },
      "outputs": [],
      "source": [
        "# Your code here:\n"
      ]
    },
    {
      "cell_type": "markdown",
      "metadata": {
        "id": "e4mD6QZf0_5f"
      },
      "source": [
        "An interesting observation is that all patients are no older than 2 years. However, their weights and heights indicate that they are adults. This cannot be true. Therefore, we can either trust the weight and height columns or the DOB column. Since there are other columns that indicate that these are adults (they have emails, some have diabetes) we will drop the `patient_dob` column. We will also drop the `appointment_date` column since it has too many unique values to transform to a dummy variable. Drop the two columns in the cell below."
      ]
    },
    {
      "cell_type": "code",
      "execution_count": null,
      "metadata": {
        "id": "teZ_kblg0_5g"
      },
      "outputs": [],
      "source": [
        "# Your code here:\n"
      ]
    },
    {
      "cell_type": "markdown",
      "metadata": {
        "id": "qpAO1zRX0_5g"
      },
      "source": [
        "#### Our data is now ready for clustering. Let's use k-means again.\n",
        "\n",
        "We start by initializing and fitting a model in the cell below. Call this model patients_cluster."
      ]
    },
    {
      "cell_type": "code",
      "execution_count": null,
      "metadata": {
        "id": "Y2UJI7xU0_5g"
      },
      "outputs": [],
      "source": [
        "# Your code here:\n"
      ]
    },
    {
      "cell_type": "markdown",
      "metadata": {
        "id": "8gbFsdBx0_5g"
      },
      "source": [
        "Attach the labels to the dataframe. Do this by accessing the `labels_` in the `patients_cluster` model and assign them to a new column in `patients` that you will call `labels`."
      ]
    },
    {
      "cell_type": "code",
      "execution_count": null,
      "metadata": {
        "id": "stpk7KmZ0_5g"
      },
      "outputs": [],
      "source": [
        "# Your code here:\n"
      ]
    },
    {
      "cell_type": "markdown",
      "metadata": {
        "id": "LdckG25L0_5g"
      },
      "source": [
        "Now using a `groupby`, find the mean of every variable in `patients` and group by the `labels` column. This summary will allow us to see how the patients differ between the clusters. Your output should look similar to the image below.\n",
        "\n",
        "![groupby mean](https://github.com/saulrubio75/lab-sklearn-and-unsupervised-learning/blob/master/groupby-mean.png?raw=1)\n",
        "\n",
        "Additionally, add a comment to describe which columns have the largest difference between clusters."
      ]
    },
    {
      "cell_type": "code",
      "execution_count": null,
      "metadata": {
        "id": "6VRui40g0_5g"
      },
      "outputs": [],
      "source": [
        "# Your code here:\n"
      ]
    },
    {
      "cell_type": "code",
      "execution_count": null,
      "metadata": {
        "id": "PC8Ny8_60_5g"
      },
      "outputs": [],
      "source": [
        "# Your comment here:\n"
      ]
    },
    {
      "cell_type": "markdown",
      "metadata": {
        "id": "K4FeAiFa0_5g"
      },
      "source": [
        "# Bonus Challenge: Visualize K-Means Clusters\n",
        "\n",
        "How did k-means cluster the data? You can obtain an intuitive view with a scatter plot. Generate a 2-d cluster plot below using `matplotlib`. You need to choose 2 of the features from your cleaned and transformed dataset, and use color to represent the cluster label generated from k-means.\n",
        "\n",
        "If the scatter plot does not make any sense to you, it means the features you chose to visualize are not the right ones. You should be able to see 4 clear clusters with different colors in your visualization that suggests how k-means had clustered your data.\n",
        "\n",
        "![Cluster Visualization](https://github.com/saulrubio75/lab-sklearn-and-unsupervised-learning/blob/master/clusters.png?raw=1)"
      ]
    },
    {
      "cell_type": "code",
      "execution_count": null,
      "metadata": {
        "id": "UJG70QKw0_5g"
      },
      "outputs": [],
      "source": [
        "# Your code here:\n"
      ]
    },
    {
      "cell_type": "markdown",
      "metadata": {
        "id": "jvdqtI0h0_5g"
      },
      "source": [
        "Additionally, you can visualize the clusters in 3-D scatter plot. Give it a try below."
      ]
    },
    {
      "cell_type": "code",
      "execution_count": null,
      "metadata": {
        "id": "oRpX484g0_5h"
      },
      "outputs": [],
      "source": [
        "# Your code here:\n"
      ]
    }
  ],
  "metadata": {
    "kernelspec": {
      "display_name": "Python 3",
      "language": "python",
      "name": "python3"
    },
    "language_info": {
      "codemirror_mode": {
        "name": "ipython",
        "version": 3
      },
      "file_extension": ".py",
      "mimetype": "text/x-python",
      "name": "python",
      "nbconvert_exporter": "python",
      "pygments_lexer": "ipython3",
      "version": "3.7.1"
    },
    "colab": {
      "provenance": []
    }
  },
  "nbformat": 4,
  "nbformat_minor": 0
}