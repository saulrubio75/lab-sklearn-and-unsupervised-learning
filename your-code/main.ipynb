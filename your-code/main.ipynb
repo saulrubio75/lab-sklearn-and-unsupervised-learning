{
  "cells": [
    {
      "cell_type": "markdown",
      "metadata": {
        "id": "aClIN8HI0_5Q"
      },
      "source": [
        "# Before your start:\n",
        "- Read the README.md file\n",
        "- Comment as much as you can and use the resources in the README.md file\n",
        "- Happy learning!\n"
      ]
    },
    {
      "cell_type": "code",
      "execution_count": 1,
      "metadata": {
        "id": "GCS2zZru0_5U"
      },
      "outputs": [],
      "source": [
        "#Import your libraries\n",
        "import pandas as pd \n",
        "import numpy as np"
      ]
    },
    {
      "cell_type": "markdown",
      "metadata": {
        "id": "oivuTurE0_5W"
      },
      "source": [
        "# Challenge 1 -  Explore the Internal Dataset\n",
        "\n",
        "In this lab, we will start off by working with the wine dataset in scikit-learn. We will select the wine dataset and use a clustering algorithm to learn more about the functionalities of this library. \n",
        "\n",
        "We start off by loading the dataset using the `load_wine` function ([documentation](https://scikit-learn.org/stable/modules/generated/sklearn.datasets.load_wine.html)). In the cell below, we will import the function from scikit-learn."
      ]
    },
    {
      "cell_type": "code",
      "execution_count": 2,
      "metadata": {
        "id": "J_Tobwpm0_5W"
      },
      "outputs": [],
      "source": [
        "from sklearn.datasets import load_wine"
      ]
    },
    {
      "cell_type": "markdown",
      "metadata": {
        "id": "9GtWqd9H0_5W"
      },
      "source": [
        "In the cell below, use the `load_wine` function and assign the wine dataset to a variable called `wine`."
      ]
    },
    {
      "cell_type": "code",
      "execution_count": 3,
      "metadata": {
        "id": "O2EJzX9c0_5X"
      },
      "outputs": [],
      "source": [
        "# Your code here:\n",
        "wine=load_wine()\n"
      ]
    },
    {
      "cell_type": "markdown",
      "metadata": {
        "id": "OXgaLJyF0_5X"
      },
      "source": [
        "In the next step, list the keys of the variable `wine` to examine its contents. Note that the `load_wine` function does not return dataframes. It returns you a Python dictionary."
      ]
    },
    {
      "cell_type": "code",
      "execution_count": 4,
      "metadata": {
        "colab": {
          "base_uri": "https://localhost:8080/"
        },
        "id": "2W4yxLLC0_5X",
        "outputId": "a1505f76-d1be-4ff5-b955-1d0a03cbe2cc"
      },
      "outputs": [
        {
          "output_type": "execute_result",
          "data": {
            "text/plain": [
              "dict_keys(['data', 'target', 'frame', 'target_names', 'DESCR', 'feature_names'])"
            ]
          },
          "metadata": {},
          "execution_count": 4
        }
      ],
      "source": [
        "# Your code here:\n",
        "wine.keys()\n"
      ]
    },
    {
      "cell_type": "markdown",
      "metadata": {
        "id": "7NaxmS310_5Y"
      },
      "source": [
        "Next, list the feature names. These are the different characteristics of the wine. "
      ]
    },
    {
      "cell_type": "code",
      "execution_count": 5,
      "metadata": {
        "colab": {
          "base_uri": "https://localhost:8080/"
        },
        "id": "I-y4Qlc-0_5Y",
        "outputId": "97e96dfe-931a-4b44-d0e7-e37610cee60d"
      },
      "outputs": [
        {
          "output_type": "execute_result",
          "data": {
            "text/plain": [
              "['alcohol',\n",
              " 'malic_acid',\n",
              " 'ash',\n",
              " 'alcalinity_of_ash',\n",
              " 'magnesium',\n",
              " 'total_phenols',\n",
              " 'flavanoids',\n",
              " 'nonflavanoid_phenols',\n",
              " 'proanthocyanins',\n",
              " 'color_intensity',\n",
              " 'hue',\n",
              " 'od280/od315_of_diluted_wines',\n",
              " 'proline']"
            ]
          },
          "metadata": {},
          "execution_count": 5
        }
      ],
      "source": [
        "# Your code here:\n",
        "wine.feature_names\n"
      ]
    },
    {
      "cell_type": "markdown",
      "metadata": {
        "id": "CAUnnkUK0_5Z"
      },
      "source": [
        "Print the description of the dataset in the cell below using the `DESCR` attribute of the `wine` variable.\n",
        "\n",
        "*Hint: If your output is ill-formatted by displaying linebreaks as `\\n`, it means you are not using the print function.*"
      ]
    },
    {
      "cell_type": "code",
      "execution_count": 6,
      "metadata": {
        "colab": {
          "base_uri": "https://localhost:8080/"
        },
        "id": "1jF5cMGI0_5Z",
        "outputId": "1650786e-9b3e-4fbd-faa3-bb0685b8868d"
      },
      "outputs": [
        {
          "output_type": "stream",
          "name": "stdout",
          "text": [
            ".. _wine_dataset:\n",
            "\n",
            "Wine recognition dataset\n",
            "------------------------\n",
            "\n",
            "**Data Set Characteristics:**\n",
            "\n",
            "    :Number of Instances: 178 (50 in each of three classes)\n",
            "    :Number of Attributes: 13 numeric, predictive attributes and the class\n",
            "    :Attribute Information:\n",
            " \t\t- Alcohol\n",
            " \t\t- Malic acid\n",
            " \t\t- Ash\n",
            "\t\t- Alcalinity of ash  \n",
            " \t\t- Magnesium\n",
            "\t\t- Total phenols\n",
            " \t\t- Flavanoids\n",
            " \t\t- Nonflavanoid phenols\n",
            " \t\t- Proanthocyanins\n",
            "\t\t- Color intensity\n",
            " \t\t- Hue\n",
            " \t\t- OD280/OD315 of diluted wines\n",
            " \t\t- Proline\n",
            "\n",
            "    - class:\n",
            "            - class_0\n",
            "            - class_1\n",
            "            - class_2\n",
            "\t\t\n",
            "    :Summary Statistics:\n",
            "    \n",
            "    ============================= ==== ===== ======= =====\n",
            "                                   Min   Max   Mean     SD\n",
            "    ============================= ==== ===== ======= =====\n",
            "    Alcohol:                      11.0  14.8    13.0   0.8\n",
            "    Malic Acid:                   0.74  5.80    2.34  1.12\n",
            "    Ash:                          1.36  3.23    2.36  0.27\n",
            "    Alcalinity of Ash:            10.6  30.0    19.5   3.3\n",
            "    Magnesium:                    70.0 162.0    99.7  14.3\n",
            "    Total Phenols:                0.98  3.88    2.29  0.63\n",
            "    Flavanoids:                   0.34  5.08    2.03  1.00\n",
            "    Nonflavanoid Phenols:         0.13  0.66    0.36  0.12\n",
            "    Proanthocyanins:              0.41  3.58    1.59  0.57\n",
            "    Colour Intensity:              1.3  13.0     5.1   2.3\n",
            "    Hue:                          0.48  1.71    0.96  0.23\n",
            "    OD280/OD315 of diluted wines: 1.27  4.00    2.61  0.71\n",
            "    Proline:                       278  1680     746   315\n",
            "    ============================= ==== ===== ======= =====\n",
            "\n",
            "    :Missing Attribute Values: None\n",
            "    :Class Distribution: class_0 (59), class_1 (71), class_2 (48)\n",
            "    :Creator: R.A. Fisher\n",
            "    :Donor: Michael Marshall (MARSHALL%PLU@io.arc.nasa.gov)\n",
            "    :Date: July, 1988\n",
            "\n",
            "This is a copy of UCI ML Wine recognition datasets.\n",
            "https://archive.ics.uci.edu/ml/machine-learning-databases/wine/wine.data\n",
            "\n",
            "The data is the results of a chemical analysis of wines grown in the same\n",
            "region in Italy by three different cultivators. There are thirteen different\n",
            "measurements taken for different constituents found in the three types of\n",
            "wine.\n",
            "\n",
            "Original Owners: \n",
            "\n",
            "Forina, M. et al, PARVUS - \n",
            "An Extendible Package for Data Exploration, Classification and Correlation. \n",
            "Institute of Pharmaceutical and Food Analysis and Technologies,\n",
            "Via Brigata Salerno, 16147 Genoa, Italy.\n",
            "\n",
            "Citation:\n",
            "\n",
            "Lichman, M. (2013). UCI Machine Learning Repository\n",
            "[https://archive.ics.uci.edu/ml]. Irvine, CA: University of California,\n",
            "School of Information and Computer Science. \n",
            "\n",
            ".. topic:: References\n",
            "\n",
            "  (1) S. Aeberhard, D. Coomans and O. de Vel, \n",
            "  Comparison of Classifiers in High Dimensional Settings, \n",
            "  Tech. Rep. no. 92-02, (1992), Dept. of Computer Science and Dept. of  \n",
            "  Mathematics and Statistics, James Cook University of North Queensland. \n",
            "  (Also submitted to Technometrics). \n",
            "\n",
            "  The data was used with many others for comparing various \n",
            "  classifiers. The classes are separable, though only RDA \n",
            "  has achieved 100% correct classification. \n",
            "  (RDA : 100%, QDA 99.4%, LDA 98.9%, 1NN 96.1% (z-transformed data)) \n",
            "  (All results using the leave-one-out technique) \n",
            "\n",
            "  (2) S. Aeberhard, D. Coomans and O. de Vel, \n",
            "  \"THE CLASSIFICATION PERFORMANCE OF RDA\" \n",
            "  Tech. Rep. no. 92-01, (1992), Dept. of Computer Science and Dept. of \n",
            "  Mathematics and Statistics, James Cook University of North Queensland. \n",
            "  (Also submitted to Journal of Chemometrics).\n",
            "\n"
          ]
        }
      ],
      "source": [
        "# Your code here:\n",
        "print(wine.DESCR)"
      ]
    },
    {
      "cell_type": "markdown",
      "metadata": {
        "id": "Z8D408AQ0_5Z"
      },
      "source": [
        "#### From the description, we see that all columns are numeric. We also know that there is no missing data \n",
        "\n",
        "Let's plot the alcohol content histogram. Recall that we are working with a numpy array and will need to use a matplotlib function to produce a histogram. "
      ]
    },
    {
      "cell_type": "code",
      "execution_count": 7,
      "metadata": {
        "id": "akd9cfQH0_5Z"
      },
      "outputs": [],
      "source": [
        "# imports\n",
        "import matplotlib.pyplot as plt\n",
        "\n"
      ]
    },
    {
      "cell_type": "code",
      "source": [],
      "metadata": {
        "id": "g-6SseP6VyT1"
      },
      "execution_count": 7,
      "outputs": []
    },
    {
      "cell_type": "code",
      "execution_count": 8,
      "metadata": {
        "colab": {
          "base_uri": "https://localhost:8080/",
          "height": 372
        },
        "id": "H5XGhm3A0_5a",
        "outputId": "4dd2f8b2-7b75-4122-a67a-3e6105d999aa"
      },
      "outputs": [
        {
          "output_type": "execute_result",
          "data": {
            "text/plain": [
              "(array([ 1.,  0.,  4.,  6.,  8., 11., 14., 17., 10., 11., 15., 12., 12.,\n",
              "        13., 18.,  7., 11.,  6.,  0.,  2.]),\n",
              " array([11.03, 11.22, 11.41, 11.6 , 11.79, 11.98, 12.17, 12.36, 12.55,\n",
              "        12.74, 12.93, 13.12, 13.31, 13.5 , 13.69, 13.88, 14.07, 14.26,\n",
              "        14.45, 14.64, 14.83]),\n",
              " <a list of 20 Patch objects>)"
            ]
          },
          "metadata": {},
          "execution_count": 8
        },
        {
          "output_type": "display_data",
          "data": {
            "text/plain": [
              "<Figure size 432x288 with 1 Axes>"
            ],
            "image/png": "[encoded data removed]"
          },
          "metadata": {
            "needs_background": "light"
          }
        }
      ],
      "source": [
        "# Your code here:\n",
        "plt.hist(wine.data[:,0], bins=20)\n"
      ]
    },
    {
      "cell_type": "markdown",
      "metadata": {
        "id": "nnDK4nuh0_5a"
      },
      "source": [
        "# Challenge 2 - Clustering the Internal Dataset\n",
        "\n",
        "In this portion of the lab, we will cluster the data to find common traits between the different wines. We will use the k-means clustering algorithm to achieve this goal.\n",
        "\n",
        "#### We start by importing k-means from scikit-learn and then proceed to create 4 clusters."
      ]
    },
    {
      "cell_type": "code",
      "execution_count": 9,
      "metadata": {
        "id": "s8OEL4A60_5a"
      },
      "outputs": [],
      "source": [
        "# imports\n",
        "from sklearn.cluster import KMeans\n"
      ]
    },
    {
      "cell_type": "code",
      "execution_count": 10,
      "metadata": {
        "colab": {
          "base_uri": "https://localhost:8080/"
        },
        "id": "fxf6pzoN0_5a",
        "outputId": "fc61d874-8bee-46fa-8344-5c22d5c6307c"
      },
      "outputs": [
        {
          "output_type": "execute_result",
          "data": {
            "text/plain": [
              "KMeans(n_clusters=4)"
            ]
          },
          "metadata": {},
          "execution_count": 10
        }
      ],
      "source": [
        "# Your code here:\n",
        "model = KMeans(n_clusters=4)\n",
        "model.fit(wine.data)"
      ]
    },
    {
      "cell_type": "markdown",
      "metadata": {
        "id": "v1tDEUd00_5b"
      },
      "source": [
        "#### Print the cluster labels."
      ]
    },
    {
      "cell_type": "code",
      "execution_count": 11,
      "metadata": {
        "colab": {
          "base_uri": "https://localhost:8080/"
        },
        "id": "2sQIAM4Z0_5b",
        "outputId": "3a1f38af-53cd-4916-ad32-3be4b3ef6334"
      },
      "outputs": [
        {
          "output_type": "execute_result",
          "data": {
            "text/plain": [
              "array([1, 1, 2, 2, 3, 2, 2, 2, 1, 1, 2, 2, 2, 1, 2, 2, 2, 1, 2, 3, 3, 3,\n",
              "       1, 1, 3, 3, 2, 2, 1, 1, 2, 2, 1, 2, 1, 1, 1, 1, 1, 3, 3, 1, 1, 3,\n",
              "       1, 1, 1, 1, 1, 2, 1, 2, 2, 2, 1, 1, 1, 2, 2, 0, 3, 0, 3, 0, 0, 3,\n",
              "       0, 0, 3, 3, 1, 0, 0, 1, 1, 0, 0, 0, 3, 0, 0, 3, 3, 0, 0, 0, 0, 0,\n",
              "       3, 3, 0, 0, 0, 0, 0, 1, 3, 0, 3, 0, 3, 0, 0, 0, 3, 0, 0, 0, 0, 3,\n",
              "       0, 0, 3, 0, 0, 0, 0, 0, 0, 0, 3, 0, 0, 0, 0, 0, 0, 0, 0, 3, 3, 0,\n",
              "       0, 3, 3, 3, 3, 0, 3, 3, 3, 3, 0, 0, 3, 3, 0, 3, 3, 0, 0, 0, 0, 3,\n",
              "       3, 3, 0, 1, 3, 3, 0, 3, 0, 3, 3, 0, 3, 3, 3, 3, 0, 0, 3, 3, 3, 3,\n",
              "       3, 0], dtype=int32)"
            ]
          },
          "metadata": {},
          "execution_count": 11
        }
      ],
      "source": [
        "# Your code here:\n",
        "model.labels_"
      ]
    },
    {
      "cell_type": "code",
      "source": [],
      "metadata": {
        "id": "bBtjLRz6ay5H"
      },
      "execution_count": 11,
      "outputs": []
    },
    {
      "cell_type": "markdown",
      "metadata": {
        "id": "UpzX4-BH0_5b"
      },
      "source": [
        "#### Compute the size of each cluster. This can be done by counting the number of occurrences of each unique label in the list above.\n",
        "\n",
        "Which is the largest cluster of the 4?"
      ]
    },
    {
      "cell_type": "code",
      "execution_count": 12,
      "metadata": {
        "colab": {
          "base_uri": "https://localhost:8080/"
        },
        "id": "7fGciVgb0_5b",
        "outputId": "1762cf2c-21ad-4529-feeb-2deef9884b68"
      },
      "outputs": [
        {
          "output_type": "execute_result",
          "data": {
            "text/plain": [
              "0    66\n",
              "3    57\n",
              "1    32\n",
              "2    23\n",
              "dtype: int64"
            ]
          },
          "metadata": {},
          "execution_count": 12
        }
      ],
      "source": [
        "# Your code here:\n",
        "label_count= pd.Series(model.labels_).value_counts()\n",
        "label_count"
      ]
    },
    {
      "cell_type": "code",
      "execution_count": 13,
      "metadata": {
        "id": "IFQjk_710_5b"
      },
      "outputs": [],
      "source": [
        "# Your answer here:\n"
      ]
    },
    {
      "cell_type": "markdown",
      "metadata": {
        "id": "8nxr8G-E0_5b"
      },
      "source": [
        "#### Inspect the shape of `wine['data']`"
      ]
    },
    {
      "cell_type": "code",
      "execution_count": 14,
      "metadata": {
        "colab": {
          "base_uri": "https://localhost:8080/"
        },
        "id": "MT2xiYCJ0_5b",
        "outputId": "0690b255-e1e4-405c-8312-08251b7a84ed"
      },
      "outputs": [
        {
          "output_type": "execute_result",
          "data": {
            "text/plain": [
              "(178, 13)"
            ]
          },
          "metadata": {},
          "execution_count": 14
        }
      ],
      "source": [
        "# Your code here:\n",
        "wine.data.shape"
      ]
    },
    {
      "cell_type": "markdown",
      "metadata": {
        "id": "zXCPvAgS0_5c"
      },
      "source": [
        "#### Inspect the first 5 records in `wine['data']`"
      ]
    },
    {
      "cell_type": "code",
      "execution_count": 15,
      "metadata": {
        "colab": {
          "base_uri": "https://localhost:8080/"
        },
        "id": "_ClkrclU0_5c",
        "outputId": "5c88b5dd-9f39-4c45-f0bd-f72f7a34ce26"
      },
      "outputs": [
        {
          "output_type": "execute_result",
          "data": {
            "text/plain": [
              "array([[1.423e+01, 1.710e+00, 2.430e+00, 1.560e+01, 1.270e+02, 2.800e+00,\n",
              "        3.060e+00, 2.800e-01, 2.290e+00, 5.640e+00, 1.040e+00, 3.920e+00,\n",
              "        1.065e+03],\n",
              "       [1.320e+01, 1.780e+00, 2.140e+00, 1.120e+01, 1.000e+02, 2.650e+00,\n",
              "        2.760e+00, 2.600e-01, 1.280e+00, 4.380e+00, 1.050e+00, 3.400e+00,\n",
              "        1.050e+03],\n",
              "       [1.316e+01, 2.360e+00, 2.670e+00, 1.860e+01, 1.010e+02, 2.800e+00,\n",
              "        3.240e+00, 3.000e-01, 2.810e+00, 5.680e+00, 1.030e+00, 3.170e+00,\n",
              "        1.185e+03],\n",
              "       [1.437e+01, 1.950e+00, 2.500e+00, 1.680e+01, 1.130e+02, 3.850e+00,\n",
              "        3.490e+00, 2.400e-01, 2.180e+00, 7.800e+00, 8.600e-01, 3.450e+00,\n",
              "        1.480e+03],\n",
              "       [1.324e+01, 2.590e+00, 2.870e+00, 2.100e+01, 1.180e+02, 2.800e+00,\n",
              "        2.690e+00, 3.900e-01, 1.820e+00, 4.320e+00, 1.040e+00, 2.930e+00,\n",
              "        7.350e+02]])"
            ]
          },
          "metadata": {},
          "execution_count": 15
        }
      ],
      "source": [
        "# Your code here:\n",
        "wine.data[:5,:]"
      ]
    },
    {
      "cell_type": "markdown",
      "metadata": {
        "id": "J0eXnHhx0_5c"
      },
      "source": [
        "You now know the data object is a 2-dimensional array in which there are 178 rows and 13 columns. Each row is a data record and each column is a feature.\n",
        "\n",
        "#### What is the average ash content for each cluster? \n",
        "\n",
        "*Hints:* \n",
        "\n",
        "* *Ash* is the 3rd column.\n",
        "\n",
        "* The data object is not a Pandas dataframe so you can't apply `pandas.DataFrame.groupby`. Instead, you can use `np.average`."
      ]
    },
    {
      "cell_type": "code",
      "execution_count": 16,
      "metadata": {
        "colab": {
          "base_uri": "https://localhost:8080/"
        },
        "id": "64Kw3JLr0_5c",
        "outputId": "dee06780-6959-401d-bb20-c05f260006d9"
      },
      "outputs": [
        {
          "output_type": "execute_result",
          "data": {
            "text/plain": [
              "2.3665168539325845"
            ]
          },
          "metadata": {},
          "execution_count": 16
        }
      ],
      "source": [
        "# Your code here:\n",
        "np.average(wine.data[:,2])\n"
      ]
    },
    {
      "cell_type": "markdown",
      "metadata": {
        "id": "ji5pW0NR0_5c"
      },
      "source": [
        "# Challenge 3 - Load and Explore an External Dataset\n",
        "\n",
        "We will now load an external dataset using Pandas and use scikit learn to explore the data. In this portion of the lab, we will use a [patient dataset from Kaggle](https://www.kaggle.com/miles99/patient-admission-dataset-for-learning-data-mining). "
      ]
    },
    {
      "cell_type": "code",
      "execution_count": 17,
      "metadata": {
        "id": "VAOHDKvr0_5c"
      },
      "outputs": [],
      "source": [
        "patients = pd.read_csv('https://raw.githubusercontent.com/ta-data-mex/lab-sklearn-and-unsupervised-learning/master/patient-admission-dataset-for-learning-data-mining.csv')"
      ]
    },
    {
      "cell_type": "markdown",
      "metadata": {
        "id": "eeQTcMQC0_5c"
      },
      "source": [
        "In the next cell, print the first five rows of the data using the `head()` function."
      ]
    },
    {
      "cell_type": "code",
      "execution_count": 18,
      "metadata": {
        "colab": {
          "base_uri": "https://localhost:8080/",
          "height": 340
        },
        "id": "CYIMW61B0_5d",
        "outputId": "666f61d7-4199-40ca-aa8a-9b3d61f157b6"
      },
      "outputs": [
        {
          "output_type": "execute_result",
          "data": {
            "text/plain": [
              "   id         patient_name               patient_email  doctor_phone  \\\n",
              "0   1  Celestyna Dillimore      cdillimore0@dion.ne.jp  674-914-1212   \n",
              "1   2        Meta Michieli          mmichieli1@loc.gov  172-580-3586   \n",
              "2   3        Cordie Sancto      csancto2@cafepress.com  794-222-5085   \n",
              "3   4     Josh De Ambrosis           jde3@amazon.co.jp  856-540-5195   \n",
              "4   5    Delinda Alfonsini  dalfonsini4@opensource.org  938-978-1131   \n",
              "\n",
              "  patient_gender patient_dob  patient_diabetic  patient_allergic  \\\n",
              "0         Female  10/18/2018             False              True   \n",
              "1         Female    2/8/2018             False              True   \n",
              "2         Female   10/9/2018              True              True   \n",
              "3           Male   9/10/2018              True              True   \n",
              "4         Female   2/26/2018             False              True   \n",
              "\n",
              "   patient_weight_kg  patient_height_sm  patient_nhs_number  \\\n",
              "0                 59                176        8.200152e+09   \n",
              "1                 77                186                 NaN   \n",
              "2                 90                177        6.145594e+09   \n",
              "3                 70                150                 NaN   \n",
              "4                 82                140        4.804758e+08   \n",
              "\n",
              "           doctor_name appointment_date  patient_show  is_regular_visit  \\\n",
              "0      Sarena Waliszek         5/1/2018          True              True   \n",
              "1       Farris Robinet        12/7/2017          True              True   \n",
              "2       Kaspar Spitaro        10/5/2018         False             False   \n",
              "3       Rafferty Fowls       10/21/2018         False              True   \n",
              "4  Glenna MacNeachtain       11/15/2018         False             False   \n",
              "\n",
              "      prescribed_medicines diagnosis  \n",
              "0  triamcinolone acetonide      I669  \n",
              "1                      NaN       NaN  \n",
              "2                      NaN       NaN  \n",
              "3                      NaN       NaN  \n",
              "4                      NaN       NaN  "
            ],
            "text/html": [
              "\n",
              "  <div id=\"df-90803aa0-d7e7-49f6-bf79-72c28ac3f951\">\n",
              "    <div class=\"colab-df-container\">\n",
              "      <div>\n",
              "<style scoped>\n",
              "    .dataframe tbody tr th:only-of-type {\n",
              "        vertical-align: middle;\n",
              "    }\n",
              "\n",
              "    .dataframe tbody tr th {\n",
              "        vertical-align: top;\n",
              "    }\n",
              "\n",
              "    .dataframe thead th {\n",
              "        text-align: right;\n",
              "    }\n",
              "</style>\n",
              "<table border=\"1\" class=\"dataframe\">\n",
              "  <thead>\n",
              "    <tr style=\"text-align: right;\">\n",
              "      <th></th>\n",
              "      <th>id</th>\n",
              "      <th>patient_name</th>\n",
              "      <th>patient_email</th>\n",
              "      <th>doctor_phone</th>\n",
              "      <th>patient_gender</th>\n",
              "      <th>patient_dob</th>\n",
              "      <th>patient_diabetic</th>\n",
              "      <th>patient_allergic</th>\n",
              "      <th>patient_weight_kg</th>\n",
              "      <th>patient_height_sm</th>\n",
              "      <th>patient_nhs_number</th>\n",
              "      <th>doctor_name</th>\n",
              "      <th>appointment_date</th>\n",
              "      <th>patient_show</th>\n",
              "      <th>is_regular_visit</th>\n",
              "      <th>prescribed_medicines</th>\n",
              "      <th>diagnosis</th>\n",
              "    </tr>\n",
              "  </thead>\n",
              "  <tbody>\n",
              "    <tr>\n",
              "      <th>0</th>\n",
              "      <td>1</td>\n",
              "      <td>Celestyna Dillimore</td>\n",
              "      <td>cdillimore0@dion.ne.jp</td>\n",
              "      <td>674-914-1212</td>\n",
              "      <td>Female</td>\n",
              "      <td>10/18/2018</td>\n",
              "      <td>False</td>\n",
              "      <td>True</td>\n",
              "      <td>59</td>\n",
              "      <td>176</td>\n",
              "      <td>8.200152e+09</td>\n",
              "      <td>Sarena Waliszek</td>\n",
              "      <td>5/1/2018</td>\n",
              "      <td>True</td>\n",
              "      <td>True</td>\n",
              "      <td>triamcinolone acetonide</td>\n",
              "      <td>I669</td>\n",
              "    </tr>\n",
              "    <tr>\n",
              "      <th>1</th>\n",
              "      <td>2</td>\n",
              "      <td>Meta Michieli</td>\n",
              "      <td>mmichieli1@loc.gov</td>\n",
              "      <td>172-580-3586</td>\n",
              "      <td>Female</td>\n",
              "      <td>2/8/2018</td>\n",
              "      <td>False</td>\n",
              "      <td>True</td>\n",
              "      <td>77</td>\n",
              "      <td>186</td>\n",
              "      <td>NaN</td>\n",
              "      <td>Farris Robinet</td>\n",
              "      <td>12/7/2017</td>\n",
              "      <td>True</td>\n",
              "      <td>True</td>\n",
              "      <td>NaN</td>\n",
              "      <td>NaN</td>\n",
              "    </tr>\n",
              "    <tr>\n",
              "      <th>2</th>\n",
              "      <td>3</td>\n",
              "      <td>Cordie Sancto</td>\n",
              "      <td>csancto2@cafepress.com</td>\n",
              "      <td>794-222-5085</td>\n",
              "      <td>Female</td>\n",
              "      <td>10/9/2018</td>\n",
              "      <td>True</td>\n",
              "      <td>True</td>\n",
              "      <td>90</td>\n",
              "      <td>177</td>\n",
              "      <td>6.145594e+09</td>\n",
              "      <td>Kaspar Spitaro</td>\n",
              "      <td>10/5/2018</td>\n",
              "      <td>False</td>\n",
              "      <td>False</td>\n",
              "      <td>NaN</td>\n",
              "      <td>NaN</td>\n",
              "    </tr>\n",
              "    <tr>\n",
              "      <th>3</th>\n",
              "      <td>4</td>\n",
              "      <td>Josh De Ambrosis</td>\n",
              "      <td>jde3@amazon.co.jp</td>\n",
              "      <td>856-540-5195</td>\n",
              "      <td>Male</td>\n",
              "      <td>9/10/2018</td>\n",
              "      <td>True</td>\n",
              "      <td>True</td>\n",
              "      <td>70</td>\n",
              "      <td>150</td>\n",
              "      <td>NaN</td>\n",
              "      <td>Rafferty Fowls</td>\n",
              "      <td>10/21/2018</td>\n",
              "      <td>False</td>\n",
              "      <td>True</td>\n",
              "      <td>NaN</td>\n",
              "      <td>NaN</td>\n",
              "    </tr>\n",
              "    <tr>\n",
              "      <th>4</th>\n",
              "      <td>5</td>\n",
              "      <td>Delinda Alfonsini</td>\n",
              "      <td>dalfonsini4@opensource.org</td>\n",
              "      <td>938-978-1131</td>\n",
              "      <td>Female</td>\n",
              "      <td>2/26/2018</td>\n",
              "      <td>False</td>\n",
              "      <td>True</td>\n",
              "      <td>82</td>\n",
              "      <td>140</td>\n",
              "      <td>4.804758e+08</td>\n",
              "      <td>Glenna MacNeachtain</td>\n",
              "      <td>11/15/2018</td>\n",
              "      <td>False</td>\n",
              "      <td>False</td>\n",
              "      <td>NaN</td>\n",
              "      <td>NaN</td>\n",
              "    </tr>\n",
              "  </tbody>\n",
              "</table>\n",
              "</div>\n",
              "      <button class=\"colab-df-convert\" onclick=\"convertToInteractive('df-90803aa0-d7e7-49f6-bf79-72c28ac3f951')\"\n",
              "              title=\"Convert this dataframe to an interactive table.\"\n",
              "              style=\"display:none;\">\n",
              "        \n",
              "  <svg xmlns=\"http://www.w3.org/2000/svg\" height=\"24px\"viewBox=\"0 0 24 24\"\n",
              "       width=\"24px\">\n",
              "    <path d=\"M0 0h24v24H0V0z\" fill=\"none\"/>\n",
              "    <path d=\"M18.56 5.44l.94 2.06.94-2.06 2.06-.94-2.06-.94-.94-2.06-.94 2.06-2.06.94zm-11 1L8.5 8.5l.94-2.06 2.06-.94-2.06-.94L8.5 2.5l-.94 2.06-2.06.94zm10 10l.94 2.06.94-2.06 2.06-.94-2.06-.94-.94-2.06-.94 2.06-2.06.94z\"/><path d=\"M17.41 7.96l-1.37-1.37c-.4-.4-.92-.59-1.43-.59-.52 0-1.04.2-1.43.59L10.3 9.45l-7.72 7.72c-.78.78-.78 2.05 0 2.83L4 21.41c.39.39.9.59 1.41.59.51 0 1.02-.2 1.41-.59l7.78-7.78 2.81-2.81c.8-.78.8-2.07 0-2.86zM5.41 20L4 18.59l7.72-7.72 1.47 1.35L5.41 20z\"/>\n",
              "  </svg>\n",
              "      </button>\n",
              "      \n",
              "  <style>\n",
              "    .colab-df-container {\n",
              "      display:flex;\n",
              "      flex-wrap:wrap;\n",
              "      gap: 12px;\n",
              "    }\n",
              "\n",
              "    .colab-df-convert {\n",
              "      background-color: #E8F0FE;\n",
              "      border: none;\n",
              "      border-radius: 50%;\n",
              "      cursor: pointer;\n",
              "      display: none;\n",
              "      fill: #1967D2;\n",
              "      height: 32px;\n",
              "      padding: 0 0 0 0;\n",
              "      width: 32px;\n",
              "    }\n",
              "\n",
              "    .colab-df-convert:hover {\n",
              "      background-color: #E2EBFA;\n",
              "      box-shadow: 0px 1px 2px rgba(60, 64, 67, 0.3), 0px 1px 3px 1px rgba(60, 64, 67, 0.15);\n",
              "      fill: #174EA6;\n",
              "    }\n",
              "\n",
              "    [theme=dark] .colab-df-convert {\n",
              "      background-color: #3B4455;\n",
              "      fill: #D2E3FC;\n",
              "    }\n",
              "\n",
              "    [theme=dark] .colab-df-convert:hover {\n",
              "      background-color: #434B5C;\n",
              "      box-shadow: 0px 1px 3px 1px rgba(0, 0, 0, 0.15);\n",
              "      filter: drop-shadow(0px 1px 2px rgba(0, 0, 0, 0.3));\n",
              "      fill: #FFFFFF;\n",
              "    }\n",
              "  </style>\n",
              "\n",
              "      <script>\n",
              "        const buttonEl =\n",
              "          document.querySelector('#df-90803aa0-d7e7-49f6-bf79-72c28ac3f951 button.colab-df-convert');\n",
              "        buttonEl.style.display =\n",
              "          google.colab.kernel.accessAllowed ? 'block' : 'none';\n",
              "\n",
              "        async function convertToInteractive(key) {\n",
              "          const element = document.querySelector('#df-90803aa0-d7e7-49f6-bf79-72c28ac3f951');\n",
              "          const dataTable =\n",
              "            await google.colab.kernel.invokeFunction('convertToInteractive',\n",
              "                                                     [key], {});\n",
              "          if (!dataTable) return;\n",
              "\n",
              "          const docLinkHtml = 'Like what you see? Visit the ' +\n",
              "            '<a target=\"_blank\" href=https://colab.research.google.com/notebooks/data_table.ipynb>data table notebook</a>'\n",
              "            + ' to learn more about interactive tables.';\n",
              "          element.innerHTML = '';\n",
              "          dataTable['output_type'] = 'display_data';\n",
              "          await google.colab.output.renderOutput(dataTable, element);\n",
              "          const docLink = document.createElement('div');\n",
              "          docLink.innerHTML = docLinkHtml;\n",
              "          element.appendChild(docLink);\n",
              "        }\n",
              "      </script>\n",
              "    </div>\n",
              "  </div>\n",
              "  "
            ]
          },
          "metadata": {},
          "execution_count": 18
        }
      ],
      "source": [
        "# Your code here:\n",
        "patients.head(5)\n"
      ]
    },
    {
      "cell_type": "markdown",
      "metadata": {
        "id": "6NVdIqV-0_5d"
      },
      "source": [
        "Next, print the column types and check which columns have been misclassified by pandas."
      ]
    },
    {
      "cell_type": "code",
      "execution_count": 19,
      "metadata": {
        "colab": {
          "base_uri": "https://localhost:8080/"
        },
        "id": "8Q1q_pUT0_5d",
        "outputId": "54cc952e-3a5a-413c-b744-e65920bff797"
      },
      "outputs": [
        {
          "output_type": "stream",
          "name": "stdout",
          "text": [
            "<class 'pandas.core.frame.DataFrame'>\n",
            "RangeIndex: 1000 entries, 0 to 999\n",
            "Data columns (total 17 columns):\n",
            " #   Column                Non-Null Count  Dtype  \n",
            "---  ------                --------------  -----  \n",
            " 0   id                    1000 non-null   int64  \n",
            " 1   patient_name          1000 non-null   object \n",
            " 2   patient_email         1000 non-null   object \n",
            " 3   doctor_phone          1000 non-null   object \n",
            " 4   patient_gender        1000 non-null   object \n",
            " 5   patient_dob           1000 non-null   object \n",
            " 6   patient_diabetic      1000 non-null   bool   \n",
            " 7   patient_allergic      1000 non-null   bool   \n",
            " 8   patient_weight_kg     1000 non-null   int64  \n",
            " 9   patient_height_sm     1000 non-null   int64  \n",
            " 10  patient_nhs_number    796 non-null    float64\n",
            " 11  doctor_name           942 non-null    object \n",
            " 12  appointment_date      1000 non-null   object \n",
            " 13  patient_show          1000 non-null   bool   \n",
            " 14  is_regular_visit      1000 non-null   bool   \n",
            " 15  prescribed_medicines  512 non-null    object \n",
            " 16  diagnosis             512 non-null    object \n",
            "dtypes: bool(4), float64(1), int64(3), object(9)\n",
            "memory usage: 105.6+ KB\n"
          ]
        }
      ],
      "source": [
        "# Your code here:\n",
        "patients.info()"
      ]
    },
    {
      "cell_type": "markdown",
      "metadata": {
        "id": "G5cPxhIp0_5d"
      },
      "source": [
        "#### We can see that none of the date columns have been correctly classified. Also, some columns contain qualitative data that can be dropped.\n",
        "\n",
        "First, transform the `patient_dob` and `appointment_date` columns to datetime using the `pd.to_datetime` function."
      ]
    },
    {
      "cell_type": "code",
      "execution_count": 20,
      "metadata": {
        "id": "xVNBptyH0_5d"
      },
      "outputs": [],
      "source": [
        "# Your code here:\n",
        "patients.patient_dob=pd.to_datetime(patients.patient_dob)\n",
        "patients.appointment_date=pd.to_datetime(patients.appointment_date)"
      ]
    },
    {
      "cell_type": "markdown",
      "metadata": {
        "id": "DB1GHSdH0_5d"
      },
      "source": [
        "Next, drop the `id`, `patient_name`, `patient_email`, `patient_nhs_number`, and `doctor_phone` columns. These are not quantitative columns and will not contribute to our analysis."
      ]
    },
    {
      "cell_type": "code",
      "execution_count": 21,
      "metadata": {
        "id": "HyFhATXO0_5d"
      },
      "outputs": [],
      "source": [
        "# Your code here:\n",
        "patients.drop(columns=['id', 'patient_name', 'patient_email', 'patient_nhs_number', 'doctor_phone'], inplace=True)\n"
      ]
    },
    {
      "cell_type": "code",
      "source": [
        "patients.head(5)"
      ],
      "metadata": {
        "id": "jDjduq8zRM8y",
        "outputId": "c6ec6b49-a619-4f7b-f8ba-a34c252b8250",
        "colab": {
          "base_uri": "https://localhost:8080/",
          "height": 322
        }
      },
      "execution_count": 22,
      "outputs": [
        {
          "output_type": "execute_result",
          "data": {
            "text/plain": [
              "  patient_gender patient_dob  patient_diabetic  patient_allergic  \\\n",
              "0         Female  2018-10-18             False              True   \n",
              "1         Female  2018-02-08             False              True   \n",
              "2         Female  2018-10-09              True              True   \n",
              "3           Male  2018-09-10              True              True   \n",
              "4         Female  2018-02-26             False              True   \n",
              "\n",
              "   patient_weight_kg  patient_height_sm          doctor_name appointment_date  \\\n",
              "0                 59                176      Sarena Waliszek       2018-05-01   \n",
              "1                 77                186       Farris Robinet       2017-12-07   \n",
              "2                 90                177       Kaspar Spitaro       2018-10-05   \n",
              "3                 70                150       Rafferty Fowls       2018-10-21   \n",
              "4                 82                140  Glenna MacNeachtain       2018-11-15   \n",
              "\n",
              "   patient_show  is_regular_visit     prescribed_medicines diagnosis  \n",
              "0          True              True  triamcinolone acetonide      I669  \n",
              "1          True              True                      NaN       NaN  \n",
              "2         False             False                      NaN       NaN  \n",
              "3         False              True                      NaN       NaN  \n",
              "4         False             False                      NaN       NaN  "
            ],
            "text/html": [
              "\n",
              "  <div id=\"df-ee5d6023-a8dc-4d6b-9e44-3f3a75402dd7\">\n",
              "    <div class=\"colab-df-container\">\n",
              "      <div>\n",
              "<style scoped>\n",
              "    .dataframe tbody tr th:only-of-type {\n",
              "        vertical-align: middle;\n",
              "    }\n",
              "\n",
              "    .dataframe tbody tr th {\n",
              "        vertical-align: top;\n",
              "    }\n",
              "\n",
              "    .dataframe thead th {\n",
              "        text-align: right;\n",
              "    }\n",
              "</style>\n",
              "<table border=\"1\" class=\"dataframe\">\n",
              "  <thead>\n",
              "    <tr style=\"text-align: right;\">\n",
              "      <th></th>\n",
              "      <th>patient_gender</th>\n",
              "      <th>patient_dob</th>\n",
              "      <th>patient_diabetic</th>\n",
              "      <th>patient_allergic</th>\n",
              "      <th>patient_weight_kg</th>\n",
              "      <th>patient_height_sm</th>\n",
              "      <th>doctor_name</th>\n",
              "      <th>appointment_date</th>\n",
              "      <th>patient_show</th>\n",
              "      <th>is_regular_visit</th>\n",
              "      <th>prescribed_medicines</th>\n",
              "      <th>diagnosis</th>\n",
              "    </tr>\n",
              "  </thead>\n",
              "  <tbody>\n",
              "    <tr>\n",
              "      <th>0</th>\n",
              "      <td>Female</td>\n",
              "      <td>2018-10-18</td>\n",
              "      <td>False</td>\n",
              "      <td>True</td>\n",
              "      <td>59</td>\n",
              "      <td>176</td>\n",
              "      <td>Sarena Waliszek</td>\n",
              "      <td>2018-05-01</td>\n",
              "      <td>True</td>\n",
              "      <td>True</td>\n",
              "      <td>triamcinolone acetonide</td>\n",
              "      <td>I669</td>\n",
              "    </tr>\n",
              "    <tr>\n",
              "      <th>1</th>\n",
              "      <td>Female</td>\n",
              "      <td>2018-02-08</td>\n",
              "      <td>False</td>\n",
              "      <td>True</td>\n",
              "      <td>77</td>\n",
              "      <td>186</td>\n",
              "      <td>Farris Robinet</td>\n",
              "      <td>2017-12-07</td>\n",
              "      <td>True</td>\n",
              "      <td>True</td>\n",
              "      <td>NaN</td>\n",
              "      <td>NaN</td>\n",
              "    </tr>\n",
              "    <tr>\n",
              "      <th>2</th>\n",
              "      <td>Female</td>\n",
              "      <td>2018-10-09</td>\n",
              "      <td>True</td>\n",
              "      <td>True</td>\n",
              "      <td>90</td>\n",
              "      <td>177</td>\n",
              "      <td>Kaspar Spitaro</td>\n",
              "      <td>2018-10-05</td>\n",
              "      <td>False</td>\n",
              "      <td>False</td>\n",
              "      <td>NaN</td>\n",
              "      <td>NaN</td>\n",
              "    </tr>\n",
              "    <tr>\n",
              "      <th>3</th>\n",
              "      <td>Male</td>\n",
              "      <td>2018-09-10</td>\n",
              "      <td>True</td>\n",
              "      <td>True</td>\n",
              "      <td>70</td>\n",
              "      <td>150</td>\n",
              "      <td>Rafferty Fowls</td>\n",
              "      <td>2018-10-21</td>\n",
              "      <td>False</td>\n",
              "      <td>True</td>\n",
              "      <td>NaN</td>\n",
              "      <td>NaN</td>\n",
              "    </tr>\n",
              "    <tr>\n",
              "      <th>4</th>\n",
              "      <td>Female</td>\n",
              "      <td>2018-02-26</td>\n",
              "      <td>False</td>\n",
              "      <td>True</td>\n",
              "      <td>82</td>\n",
              "      <td>140</td>\n",
              "      <td>Glenna MacNeachtain</td>\n",
              "      <td>2018-11-15</td>\n",
              "      <td>False</td>\n",
              "      <td>False</td>\n",
              "      <td>NaN</td>\n",
              "      <td>NaN</td>\n",
              "    </tr>\n",
              "  </tbody>\n",
              "</table>\n",
              "</div>\n",
              "      <button class=\"colab-df-convert\" onclick=\"convertToInteractive('df-ee5d6023-a8dc-4d6b-9e44-3f3a75402dd7')\"\n",
              "              title=\"Convert this dataframe to an interactive table.\"\n",
              "              style=\"display:none;\">\n",
              "        \n",
              "  <svg xmlns=\"http://www.w3.org/2000/svg\" height=\"24px\"viewBox=\"0 0 24 24\"\n",
              "       width=\"24px\">\n",
              "    <path d=\"M0 0h24v24H0V0z\" fill=\"none\"/>\n",
              "    <path d=\"M18.56 5.44l.94 2.06.94-2.06 2.06-.94-2.06-.94-.94-2.06-.94 2.06-2.06.94zm-11 1L8.5 8.5l.94-2.06 2.06-.94-2.06-.94L8.5 2.5l-.94 2.06-2.06.94zm10 10l.94 2.06.94-2.06 2.06-.94-2.06-.94-.94-2.06-.94 2.06-2.06.94z\"/><path d=\"M17.41 7.96l-1.37-1.37c-.4-.4-.92-.59-1.43-.59-.52 0-1.04.2-1.43.59L10.3 9.45l-7.72 7.72c-.78.78-.78 2.05 0 2.83L4 21.41c.39.39.9.59 1.41.59.51 0 1.02-.2 1.41-.59l7.78-7.78 2.81-2.81c.8-.78.8-2.07 0-2.86zM5.41 20L4 18.59l7.72-7.72 1.47 1.35L5.41 20z\"/>\n",
              "  </svg>\n",
              "      </button>\n",
              "      \n",
              "  <style>\n",
              "    .colab-df-container {\n",
              "      display:flex;\n",
              "      flex-wrap:wrap;\n",
              "      gap: 12px;\n",
              "    }\n",
              "\n",
              "    .colab-df-convert {\n",
              "      background-color: #E8F0FE;\n",
              "      border: none;\n",
              "      border-radius: 50%;\n",
              "      cursor: pointer;\n",
              "      display: none;\n",
              "      fill: #1967D2;\n",
              "      height: 32px;\n",
              "      padding: 0 0 0 0;\n",
              "      width: 32px;\n",
              "    }\n",
              "\n",
              "    .colab-df-convert:hover {\n",
              "      background-color: #E2EBFA;\n",
              "      box-shadow: 0px 1px 2px rgba(60, 64, 67, 0.3), 0px 1px 3px 1px rgba(60, 64, 67, 0.15);\n",
              "      fill: #174EA6;\n",
              "    }\n",
              "\n",
              "    [theme=dark] .colab-df-convert {\n",
              "      background-color: #3B4455;\n",
              "      fill: #D2E3FC;\n",
              "    }\n",
              "\n",
              "    [theme=dark] .colab-df-convert:hover {\n",
              "      background-color: #434B5C;\n",
              "      box-shadow: 0px 1px 3px 1px rgba(0, 0, 0, 0.15);\n",
              "      filter: drop-shadow(0px 1px 2px rgba(0, 0, 0, 0.3));\n",
              "      fill: #FFFFFF;\n",
              "    }\n",
              "  </style>\n",
              "\n",
              "      <script>\n",
              "        const buttonEl =\n",
              "          document.querySelector('#df-ee5d6023-a8dc-4d6b-9e44-3f3a75402dd7 button.colab-df-convert');\n",
              "        buttonEl.style.display =\n",
              "          google.colab.kernel.accessAllowed ? 'block' : 'none';\n",
              "\n",
              "        async function convertToInteractive(key) {\n",
              "          const element = document.querySelector('#df-ee5d6023-a8dc-4d6b-9e44-3f3a75402dd7');\n",
              "          const dataTable =\n",
              "            await google.colab.kernel.invokeFunction('convertToInteractive',\n",
              "                                                     [key], {});\n",
              "          if (!dataTable) return;\n",
              "\n",
              "          const docLinkHtml = 'Like what you see? Visit the ' +\n",
              "            '<a target=\"_blank\" href=https://colab.research.google.com/notebooks/data_table.ipynb>data table notebook</a>'\n",
              "            + ' to learn more about interactive tables.';\n",
              "          element.innerHTML = '';\n",
              "          dataTable['output_type'] = 'display_data';\n",
              "          await google.colab.output.renderOutput(dataTable, element);\n",
              "          const docLink = document.createElement('div');\n",
              "          docLink.innerHTML = docLinkHtml;\n",
              "          element.appendChild(docLink);\n",
              "        }\n",
              "      </script>\n",
              "    </div>\n",
              "  </div>\n",
              "  "
            ]
          },
          "metadata": {},
          "execution_count": 22
        }
      ]
    },
    {
      "cell_type": "markdown",
      "metadata": {
        "id": "Dp78JVTJ0_5d"
      },
      "source": [
        "Now we work on the missing data. Most ML algorithms will not perform as intended if there are missing data.\n",
        "\n",
        "In the cell below, count how many rows contain missing data in each column. You should see three columns contain missing data:\n",
        "\n",
        "* `doctor_name`: 58 missing data\n",
        "* `prescribed_medicines`: 488 missing data\n",
        "* `diagnosis`: 488 missing data"
      ]
    },
    {
      "cell_type": "code",
      "execution_count": 23,
      "metadata": {
        "colab": {
          "base_uri": "https://localhost:8080/"
        },
        "id": "Q0XRXIS10_5e",
        "outputId": "b6aa4dda-80e6-4281-8e11-8722ee02677b"
      },
      "outputs": [
        {
          "output_type": "execute_result",
          "data": {
            "text/plain": [
              "patient_gender            0\n",
              "patient_dob               0\n",
              "patient_diabetic          0\n",
              "patient_allergic          0\n",
              "patient_weight_kg         0\n",
              "patient_height_sm         0\n",
              "doctor_name              58\n",
              "appointment_date          0\n",
              "patient_show              0\n",
              "is_regular_visit          0\n",
              "prescribed_medicines    488\n",
              "diagnosis               488\n",
              "dtype: int64"
            ]
          },
          "metadata": {},
          "execution_count": 23
        }
      ],
      "source": [
        "# Your code here: \n",
        "patients.isnull().sum()\n"
      ]
    },
    {
      "cell_type": "markdown",
      "metadata": {
        "id": "tVmJavtl0_5e"
      },
      "source": [
        "The main issues are found in the `prescribed_medicines` and `diagnosis` columns. Can we simply drop these rows?\n",
        "\n",
        "The answer is not yet. Because when there are missing data in these columns, it doesn't mean the data records are broken. Instead, it means no medication was prescribed and no diagnosis was recorded. Therefore, once we fill in the missing data these columns will be fine. But we'll revisit these columns and decide whether we will eventually drop them when we look at how many unique values are there in these categorical columns.  \n",
        "\n",
        "For the `prescribed_medicines` column, fill the missing values with the value `no prescription`. For the `diagnosis` column, fill the missing values with `no diagnosis`.\n",
        "\n",
        "*Hint: Use [`pandas.DataFrame.fillna`](https://pandas.pydata.org/pandas-docs/stable/generated/pandas.DataFrame.fillna.html).*"
      ]
    },
    {
      "cell_type": "code",
      "execution_count": 24,
      "metadata": {
        "id": "IxE-9cxY0_5e"
      },
      "outputs": [],
      "source": [
        "# Your code here:\n",
        "patients.prescribed_medicines.fillna('no prescription', inplace=True) \n",
        "patients.diagnosis.fillna('no diagnosis', inplace=True)"
      ]
    },
    {
      "cell_type": "markdown",
      "metadata": {
        "id": "fP-xx5Kq0_5e"
      },
      "source": [
        "How about `doctor_name`? Since a doctor visit without a doctor name might not be meaningful, we will drop these rows."
      ]
    },
    {
      "cell_type": "code",
      "execution_count": 25,
      "metadata": {
        "id": "agljorTo0_5e"
      },
      "outputs": [],
      "source": [
        "# Your code here:\n",
        "\n",
        "patients.doctor_name.dropna(inplace=True)"
      ]
    },
    {
      "cell_type": "markdown",
      "metadata": {
        "id": "4OtYJRM_0_5e"
      },
      "source": [
        "#### Another step in preprocessing that can be performed by scikit-learn is label encoding. \n",
        "\n",
        "We have 4 columns that are of `bool` type. We would like to convert them to an integer column containing either zero or one. We can do this using [scikit-learn's label encoder](https://scikit-learn.org/stable/modules/generated/sklearn.preprocessing.LabelEncoder.html).\n",
        "\n",
        "In the cell below, import the label encoder and encode the 4 boolean columns (*patient_diabetic*, *patient_allergic*, *patient_show*, *is_regular_visit*) with `0` and `1`. "
      ]
    },
    {
      "cell_type": "code",
      "execution_count": 26,
      "metadata": {
        "id": "k9Ak-_Y50_5e"
      },
      "outputs": [],
      "source": [
        "# Your code here:\n",
        "from sklearn.preprocessing import LabelEncoder\n",
        "\n",
        "LE = LabelEncoder()\n",
        "patients['pat_diabetic_encoded'] = LE.fit_transform(patients.patient_diabetic)\n",
        "patients['pat_allergic_encoded'] = LE.fit_transform(patients.patient_allergic)\n",
        "patients['pat_show_encoded'] = LE.fit_transform(patients.patient_show)\n",
        "patients['pat_regular_encoded'] = LE.fit_transform(patients.is_regular_visit)\n"
      ]
    },
    {
      "cell_type": "markdown",
      "metadata": {
        "id": "NZYi_lR80_5f"
      },
      "source": [
        "Print the data dtypes to confirm those four `bool` columns are converted to `int64`."
      ]
    },
    {
      "cell_type": "code",
      "execution_count": 39,
      "metadata": {
        "colab": {
          "base_uri": "https://localhost:8080/"
        },
        "id": "nd4cwzf20_5f",
        "outputId": "fedb1af0-af08-4661-df63-0039055d6dcb"
      },
      "outputs": [
        {
          "output_type": "execute_result",
          "data": {
            "text/plain": [
              "patient_gender                  object\n",
              "patient_dob             datetime64[ns]\n",
              "patient_diabetic                  bool\n",
              "patient_allergic                  bool\n",
              "patient_weight_kg                int64\n",
              "patient_height_sm                int64\n",
              "doctor_name                     object\n",
              "appointment_date        datetime64[ns]\n",
              "patient_show                      bool\n",
              "is_regular_visit                  bool\n",
              "prescribed_medicines            object\n",
              "diagnosis                       object\n",
              "pat_diabetic_encoded             int64\n",
              "pat_allergic_encoded             int64\n",
              "pat_show_encoded                 int64\n",
              "pat_regular_encoded              int64\n",
              "dtype: object"
            ]
          },
          "metadata": {},
          "execution_count": 39
        }
      ],
      "source": [
        "# Your code here:\n",
        "patients.dtypes"
      ]
    },
    {
      "cell_type": "markdown",
      "metadata": {
        "id": "fqpI29fn0_5f"
      },
      "source": [
        "#### The last step is to handle the `object` data.\n",
        "\n",
        "There are 4 `object` columns now: `patient_gender`, `doctor_name`, `prescribed_medicines`, and `diagnosis`. The gender columns\n",
        "\n",
        "In the next cell, check the unique values of each of the `object` columns using `value_counts()`."
      ]
    },
    {
      "cell_type": "code",
      "execution_count": 40,
      "metadata": {
        "scrolled": false,
        "colab": {
          "base_uri": "https://localhost:8080/"
        },
        "id": "U8gfFvRE0_5f",
        "outputId": "107554e4-0928-4c82-f42a-7116db385125"
      },
      "outputs": [
        {
          "output_type": "stream",
          "name": "stdout",
          "text": [
            "Patient Gender:\n",
            " Female    504\n",
            "Male      496\n",
            "Name: patient_gender, dtype: int64 \n",
            "\n",
            "\n",
            "Doctor Name:\n",
            " Sarena Waliszek           74\n",
            "Cissy Markey              57\n",
            "Flossy Canlin             55\n",
            "Farris Robinet            55\n",
            "Jilly McGrill             53\n",
            "Gabie Brafield            53\n",
            "Glenna MacNeachtain       53\n",
            "Nerte Elmer               51\n",
            "Oralie Swaffer            49\n",
            "Kaspar Spitaro            48\n",
            "Wyn Grassett              47\n",
            "Humfried Cartmel          47\n",
            "Carly SperaJillie Katt    47\n",
            "Madelina Scurrell         46\n",
            "Rafferty Fowls            45\n",
            "Dulce McKerley            42\n",
            "Rouvin McKinstry          42\n",
            "Ryley Swallow             40\n",
            "Hermina Domeny            38\n",
            "Name: doctor_name, dtype: int64 \n",
            "\n",
            "\n",
            "Prescribed Medicines:\n",
            " no prescription                                                488\n",
            "ALCOHOL                                                          8\n",
            "Ibuprofen                                                        7\n",
            "Acetaminophen                                                    6\n",
            "Triclosan                                                        5\n",
            "                                                              ... \n",
            "bacitracin zinc, neomycin, polymyxin B                           1\n",
            "POLYVINYL ALCOHOL                                                1\n",
            "tramadol hydrochloride                                           1\n",
            "Medroxyprogesterone Acetate                                      1\n",
            "aluminum hydroxide, magnesium carbonate, sodium bicarbonate      1\n",
            "Name: prescribed_medicines, Length: 414, dtype: int64 \n",
            "\n",
            "\n",
            "Diagnosis:\n",
            " no diagnosis    488\n",
            "T2169             2\n",
            "T8242XA           1\n",
            "S52009D           1\n",
            "S82466H           1\n",
            "               ... \n",
            "S92223A           1\n",
            "S92334G           1\n",
            "S82254B           1\n",
            "S65011            1\n",
            "I70429            1\n",
            "Name: diagnosis, Length: 512, dtype: int64 \n",
            "\n",
            "\n"
          ]
        }
      ],
      "source": [
        "# Your code here:\n",
        "print('Patient Gender:\\n', patients.patient_gender.value_counts(), '\\n\\n')\n",
        "print('Doctor Name:\\n', patients.doctor_name.value_counts(), '\\n\\n')\n",
        "print('Prescribed Medicines:\\n', patients.prescribed_medicines.value_counts(), '\\n\\n')\n",
        "print('Diagnosis:\\n', patients.diagnosis.value_counts(), '\\n\\n')"
      ]
    },
    {
      "cell_type": "markdown",
      "metadata": {
        "id": "RK6byYUa0_5f"
      },
      "source": [
        "#### The number of unique values is large for all three columns except `patient_gender`. We will handle these columns differently.\n",
        "\n",
        "For `diagnosis`, there are too many unique values which will make ML difficult. However, we can re-encode the values to either with or without diagnosis. Remember at an earlier step we filled in the missing values of this column with *no diagnosis*? We can re-encode *no diagnosis* to `0` and all other values to `1`. In this way we can tremendously simply this column.\n",
        "\n",
        "For `prescribed_medicines`, we can drop this column because it is perfectly correlated with `diagnosis`. Whenever there is no diagnosis, there is no prescribed medicine. So we don't need to keep this duplicated data.\n",
        "\n",
        "How about `doctor_name`? There are not excessive unique values but still quite many (19). We may either drop or keep it but keeping it will make the analysis more complicated. So due to the length of this lab let's drop it.\n",
        "\n",
        "How about `gender`? This one is easy. Just like re-encoding the boolean values, we can re-encode gender to `0` and `1` because there are only 2 unique values.\n",
        "\n",
        "In the next cells, do the following:\n",
        "\n",
        "1. Create a new column called `diagnosis_int` that has `0` and `1` based on the values in `diagnosis`.\n",
        "\n",
        "1. Create a new column called `patient_gender_int` that has `0` and `1` based on the values in `patient_gender`.\n",
        "\n",
        "1. Drop the following columns: `doctor_name`, `diagnosis`, `prescribed_medicines`, and `patient_gender`."
      ]
    },
    {
      "cell_type": "code",
      "execution_count": 41,
      "metadata": {
        "id": "kRT9UkXT0_5f"
      },
      "outputs": [],
      "source": [
        "# Your code here:\n",
        "patients['diagnosis_int'] = np.where(patients.diagnosis == 'no diagnosis', 0, 1)\n",
        "patients['patient_gender_ind'] = np.where(patients.patient_gender == 'Female', 0, 1)\n",
        "patients.drop(columns=['doctor_name', 'diagnosis', 'prescribed_medicines', 'patient_gender'], inplace=True)\n"
      ]
    },
    {
      "cell_type": "markdown",
      "metadata": {
        "id": "DEV3sltg0_5f"
      },
      "source": [
        "Let's look at the head again to ensure the re-encoding and dropping are successful:"
      ]
    },
    {
      "cell_type": "code",
      "execution_count": 42,
      "metadata": {
        "colab": {
          "base_uri": "https://localhost:8080/",
          "height": 270
        },
        "id": "blKkkKcE0_5f",
        "outputId": "bdff161d-878f-40d8-ee12-c14c663bb1b2"
      },
      "outputs": [
        {
          "output_type": "execute_result",
          "data": {
            "text/plain": [
              "  patient_dob  patient_diabetic  patient_allergic  patient_weight_kg  \\\n",
              "0  2018-10-18             False              True                 59   \n",
              "1  2018-02-08             False              True                 77   \n",
              "2  2018-10-09              True              True                 90   \n",
              "3  2018-09-10              True              True                 70   \n",
              "4  2018-02-26             False              True                 82   \n",
              "\n",
              "   patient_height_sm appointment_date  patient_show  is_regular_visit  \\\n",
              "0                176       2018-05-01          True              True   \n",
              "1                186       2017-12-07          True              True   \n",
              "2                177       2018-10-05         False             False   \n",
              "3                150       2018-10-21         False              True   \n",
              "4                140       2018-11-15         False             False   \n",
              "\n",
              "   pat_diabetic_encoded  pat_allergic_encoded  pat_show_encoded  \\\n",
              "0                     0                     1                 1   \n",
              "1                     0                     1                 1   \n",
              "2                     1                     1                 0   \n",
              "3                     1                     1                 0   \n",
              "4                     0                     1                 0   \n",
              "\n",
              "   pat_regular_encoded  diagnosis_int  patient_gender_ind  \n",
              "0                    1              1                   0  \n",
              "1                    1              0                   0  \n",
              "2                    0              0                   0  \n",
              "3                    1              0                   1  \n",
              "4                    0              0                   0  "
            ],
            "text/html": [
              "\n",
              "  <div id=\"df-9ad448ce-a0a6-42d7-9201-718c1c0c1920\">\n",
              "    <div class=\"colab-df-container\">\n",
              "      <div>\n",
              "<style scoped>\n",
              "    .dataframe tbody tr th:only-of-type {\n",
              "        vertical-align: middle;\n",
              "    }\n",
              "\n",
              "    .dataframe tbody tr th {\n",
              "        vertical-align: top;\n",
              "    }\n",
              "\n",
              "    .dataframe thead th {\n",
              "        text-align: right;\n",
              "    }\n",
              "</style>\n",
              "<table border=\"1\" class=\"dataframe\">\n",
              "  <thead>\n",
              "    <tr style=\"text-align: right;\">\n",
              "      <th></th>\n",
              "      <th>patient_dob</th>\n",
              "      <th>patient_diabetic</th>\n",
              "      <th>patient_allergic</th>\n",
              "      <th>patient_weight_kg</th>\n",
              "      <th>patient_height_sm</th>\n",
              "      <th>appointment_date</th>\n",
              "      <th>patient_show</th>\n",
              "      <th>is_regular_visit</th>\n",
              "      <th>pat_diabetic_encoded</th>\n",
              "      <th>pat_allergic_encoded</th>\n",
              "      <th>pat_show_encoded</th>\n",
              "      <th>pat_regular_encoded</th>\n",
              "      <th>diagnosis_int</th>\n",
              "      <th>patient_gender_ind</th>\n",
              "    </tr>\n",
              "  </thead>\n",
              "  <tbody>\n",
              "    <tr>\n",
              "      <th>0</th>\n",
              "      <td>2018-10-18</td>\n",
              "      <td>False</td>\n",
              "      <td>True</td>\n",
              "      <td>59</td>\n",
              "      <td>176</td>\n",
              "      <td>2018-05-01</td>\n",
              "      <td>True</td>\n",
              "      <td>True</td>\n",
              "      <td>0</td>\n",
              "      <td>1</td>\n",
              "      <td>1</td>\n",
              "      <td>1</td>\n",
              "      <td>1</td>\n",
              "      <td>0</td>\n",
              "    </tr>\n",
              "    <tr>\n",
              "      <th>1</th>\n",
              "      <td>2018-02-08</td>\n",
              "      <td>False</td>\n",
              "      <td>True</td>\n",
              "      <td>77</td>\n",
              "      <td>186</td>\n",
              "      <td>2017-12-07</td>\n",
              "      <td>True</td>\n",
              "      <td>True</td>\n",
              "      <td>0</td>\n",
              "      <td>1</td>\n",
              "      <td>1</td>\n",
              "      <td>1</td>\n",
              "      <td>0</td>\n",
              "      <td>0</td>\n",
              "    </tr>\n",
              "    <tr>\n",
              "      <th>2</th>\n",
              "      <td>2018-10-09</td>\n",
              "      <td>True</td>\n",
              "      <td>True</td>\n",
              "      <td>90</td>\n",
              "      <td>177</td>\n",
              "      <td>2018-10-05</td>\n",
              "      <td>False</td>\n",
              "      <td>False</td>\n",
              "      <td>1</td>\n",
              "      <td>1</td>\n",
              "      <td>0</td>\n",
              "      <td>0</td>\n",
              "      <td>0</td>\n",
              "      <td>0</td>\n",
              "    </tr>\n",
              "    <tr>\n",
              "      <th>3</th>\n",
              "      <td>2018-09-10</td>\n",
              "      <td>True</td>\n",
              "      <td>True</td>\n",
              "      <td>70</td>\n",
              "      <td>150</td>\n",
              "      <td>2018-10-21</td>\n",
              "      <td>False</td>\n",
              "      <td>True</td>\n",
              "      <td>1</td>\n",
              "      <td>1</td>\n",
              "      <td>0</td>\n",
              "      <td>1</td>\n",
              "      <td>0</td>\n",
              "      <td>1</td>\n",
              "    </tr>\n",
              "    <tr>\n",
              "      <th>4</th>\n",
              "      <td>2018-02-26</td>\n",
              "      <td>False</td>\n",
              "      <td>True</td>\n",
              "      <td>82</td>\n",
              "      <td>140</td>\n",
              "      <td>2018-11-15</td>\n",
              "      <td>False</td>\n",
              "      <td>False</td>\n",
              "      <td>0</td>\n",
              "      <td>1</td>\n",
              "      <td>0</td>\n",
              "      <td>0</td>\n",
              "      <td>0</td>\n",
              "      <td>0</td>\n",
              "    </tr>\n",
              "  </tbody>\n",
              "</table>\n",
              "</div>\n",
              "      <button class=\"colab-df-convert\" onclick=\"convertToInteractive('df-9ad448ce-a0a6-42d7-9201-718c1c0c1920')\"\n",
              "              title=\"Convert this dataframe to an interactive table.\"\n",
              "              style=\"display:none;\">\n",
              "        \n",
              "  <svg xmlns=\"http://www.w3.org/2000/svg\" height=\"24px\"viewBox=\"0 0 24 24\"\n",
              "       width=\"24px\">\n",
              "    <path d=\"M0 0h24v24H0V0z\" fill=\"none\"/>\n",
              "    <path d=\"M18.56 5.44l.94 2.06.94-2.06 2.06-.94-2.06-.94-.94-2.06-.94 2.06-2.06.94zm-11 1L8.5 8.5l.94-2.06 2.06-.94-2.06-.94L8.5 2.5l-.94 2.06-2.06.94zm10 10l.94 2.06.94-2.06 2.06-.94-2.06-.94-.94-2.06-.94 2.06-2.06.94z\"/><path d=\"M17.41 7.96l-1.37-1.37c-.4-.4-.92-.59-1.43-.59-.52 0-1.04.2-1.43.59L10.3 9.45l-7.72 7.72c-.78.78-.78 2.05 0 2.83L4 21.41c.39.39.9.59 1.41.59.51 0 1.02-.2 1.41-.59l7.78-7.78 2.81-2.81c.8-.78.8-2.07 0-2.86zM5.41 20L4 18.59l7.72-7.72 1.47 1.35L5.41 20z\"/>\n",
              "  </svg>\n",
              "      </button>\n",
              "      \n",
              "  <style>\n",
              "    .colab-df-container {\n",
              "      display:flex;\n",
              "      flex-wrap:wrap;\n",
              "      gap: 12px;\n",
              "    }\n",
              "\n",
              "    .colab-df-convert {\n",
              "      background-color: #E8F0FE;\n",
              "      border: none;\n",
              "      border-radius: 50%;\n",
              "      cursor: pointer;\n",
              "      display: none;\n",
              "      fill: #1967D2;\n",
              "      height: 32px;\n",
              "      padding: 0 0 0 0;\n",
              "      width: 32px;\n",
              "    }\n",
              "\n",
              "    .colab-df-convert:hover {\n",
              "      background-color: #E2EBFA;\n",
              "      box-shadow: 0px 1px 2px rgba(60, 64, 67, 0.3), 0px 1px 3px 1px rgba(60, 64, 67, 0.15);\n",
              "      fill: #174EA6;\n",
              "    }\n",
              "\n",
              "    [theme=dark] .colab-df-convert {\n",
              "      background-color: #3B4455;\n",
              "      fill: #D2E3FC;\n",
              "    }\n",
              "\n",
              "    [theme=dark] .colab-df-convert:hover {\n",
              "      background-color: #434B5C;\n",
              "      box-shadow: 0px 1px 3px 1px rgba(0, 0, 0, 0.15);\n",
              "      filter: drop-shadow(0px 1px 2px rgba(0, 0, 0, 0.3));\n",
              "      fill: #FFFFFF;\n",
              "    }\n",
              "  </style>\n",
              "\n",
              "      <script>\n",
              "        const buttonEl =\n",
              "          document.querySelector('#df-9ad448ce-a0a6-42d7-9201-718c1c0c1920 button.colab-df-convert');\n",
              "        buttonEl.style.display =\n",
              "          google.colab.kernel.accessAllowed ? 'block' : 'none';\n",
              "\n",
              "        async function convertToInteractive(key) {\n",
              "          const element = document.querySelector('#df-9ad448ce-a0a6-42d7-9201-718c1c0c1920');\n",
              "          const dataTable =\n",
              "            await google.colab.kernel.invokeFunction('convertToInteractive',\n",
              "                                                     [key], {});\n",
              "          if (!dataTable) return;\n",
              "\n",
              "          const docLinkHtml = 'Like what you see? Visit the ' +\n",
              "            '<a target=\"_blank\" href=https://colab.research.google.com/notebooks/data_table.ipynb>data table notebook</a>'\n",
              "            + ' to learn more about interactive tables.';\n",
              "          element.innerHTML = '';\n",
              "          dataTable['output_type'] = 'display_data';\n",
              "          await google.colab.output.renderOutput(dataTable, element);\n",
              "          const docLink = document.createElement('div');\n",
              "          docLink.innerHTML = docLinkHtml;\n",
              "          element.appendChild(docLink);\n",
              "        }\n",
              "      </script>\n",
              "    </div>\n",
              "  </div>\n",
              "  "
            ]
          },
          "metadata": {},
          "execution_count": 42
        }
      ],
      "source": [
        "# Your code here:\n",
        "patients.head()\n"
      ]
    },
    {
      "cell_type": "markdown",
      "metadata": {
        "id": "e4mD6QZf0_5f"
      },
      "source": [
        "An interesting observation is that all patients are no older than 2 years. However, their weights and heights indicate that they are adults. This cannot be true. Therefore, we can either trust the weight and height columns or the DOB column. Since there are other columns that indicate that these are adults (they have emails, some have diabetes) we will drop the `patient_dob` column. We will also drop the `appointment_date` column since it has too many unique values to transform to a dummy variable. Drop the two columns in the cell below."
      ]
    },
    {
      "cell_type": "code",
      "execution_count": 43,
      "metadata": {
        "id": "teZ_kblg0_5g"
      },
      "outputs": [],
      "source": [
        "# Your code here:\n",
        "patients.drop(columns=['patient_dob', 'appointment_date'], inplace=True)\n"
      ]
    },
    {
      "cell_type": "markdown",
      "metadata": {
        "id": "qpAO1zRX0_5g"
      },
      "source": [
        "#### Our data is now ready for clustering. Let's use k-means again.\n",
        "\n",
        "We start by initializing and fitting a model in the cell below. Call this model patients_cluster."
      ]
    },
    {
      "cell_type": "code",
      "execution_count": 44,
      "metadata": {
        "colab": {
          "base_uri": "https://localhost:8080/"
        },
        "id": "Y2UJI7xU0_5g",
        "outputId": "3f6a4cf9-ff00-4122-9bae-3fa208ba1ec8"
      },
      "outputs": [
        {
          "output_type": "execute_result",
          "data": {
            "text/plain": [
              "KMeans(n_clusters=4)"
            ]
          },
          "metadata": {},
          "execution_count": 44
        }
      ],
      "source": [
        "# Your code here:\n",
        "patients_cluster = KMeans(n_clusters=4)\n",
        "patients_cluster.fit(patients)\n"
      ]
    },
    {
      "cell_type": "markdown",
      "metadata": {
        "id": "8gbFsdBx0_5g"
      },
      "source": [
        "Attach the labels to the dataframe. Do this by accessing the `labels_` in the `patients_cluster` model and assign them to a new column in `patients` that you will call `labels`."
      ]
    },
    {
      "cell_type": "code",
      "execution_count": 45,
      "metadata": {
        "id": "stpk7KmZ0_5g"
      },
      "outputs": [],
      "source": [
        "# Your code here:\n",
        "patients['labels'] = patients_cluster.labels_"
      ]
    },
    {
      "cell_type": "markdown",
      "metadata": {
        "id": "LdckG25L0_5g"
      },
      "source": [
        "Now using a `groupby`, find the mean of every variable in `patients` and group by the `labels` column. This summary will allow us to see how the patients differ between the clusters. Your output should look similar to the image below.\n",
        "\n",
        "![groupby mean](https://github.com/saulrubio75/lab-sklearn-and-unsupervised-learning/blob/master/groupby-mean.png?raw=1)\n",
        "\n",
        "Additionally, add a comment to describe which columns have the largest difference between clusters."
      ]
    },
    {
      "cell_type": "code",
      "execution_count": 46,
      "metadata": {
        "colab": {
          "base_uri": "https://localhost:8080/",
          "height": 270
        },
        "id": "6VRui40g0_5g",
        "outputId": "63d93ccf-1c92-4aae-eda9-22520e674824"
      },
      "outputs": [
        {
          "output_type": "execute_result",
          "data": {
            "text/plain": [
              "        patient_diabetic  patient_allergic  patient_weight_kg  \\\n",
              "labels                                                          \n",
              "0               0.562771          0.515152          97.696970   \n",
              "1               0.494208          0.517375          63.104247   \n",
              "2               0.505618          0.490637          94.029963   \n",
              "3               0.506173          0.497942          65.637860   \n",
              "\n",
              "        patient_height_sm  patient_show  is_regular_visit  \\\n",
              "labels                                                      \n",
              "0              153.766234      0.493506          0.519481   \n",
              "1              176.988417      0.463320          0.494208   \n",
              "2              178.925094      0.501873          0.531835   \n",
              "3              152.193416      0.514403          0.555556   \n",
              "\n",
              "        pat_diabetic_encoded  pat_allergic_encoded  pat_show_encoded  \\\n",
              "labels                                                                 \n",
              "0                   0.562771              0.515152          0.493506   \n",
              "1                   0.494208              0.517375          0.463320   \n",
              "2                   0.505618              0.490637          0.501873   \n",
              "3                   0.506173              0.497942          0.514403   \n",
              "\n",
              "        pat_regular_encoded  diagnosis_int  patient_gender_ind  \n",
              "labels                                                          \n",
              "0                  0.519481       0.575758            0.510823  \n",
              "1                  0.494208       0.459459            0.463320  \n",
              "2                  0.531835       0.509363            0.468165  \n",
              "3                  0.555556       0.510288            0.547325  "
            ],
            "text/html": [
              "\n",
              "  <div id=\"df-32c208be-db2c-4b85-85e4-214ea79be52a\">\n",
              "    <div class=\"colab-df-container\">\n",
              "      <div>\n",
              "<style scoped>\n",
              "    .dataframe tbody tr th:only-of-type {\n",
              "        vertical-align: middle;\n",
              "    }\n",
              "\n",
              "    .dataframe tbody tr th {\n",
              "        vertical-align: top;\n",
              "    }\n",
              "\n",
              "    .dataframe thead th {\n",
              "        text-align: right;\n",
              "    }\n",
              "</style>\n",
              "<table border=\"1\" class=\"dataframe\">\n",
              "  <thead>\n",
              "    <tr style=\"text-align: right;\">\n",
              "      <th></th>\n",
              "      <th>patient_diabetic</th>\n",
              "      <th>patient_allergic</th>\n",
              "      <th>patient_weight_kg</th>\n",
              "      <th>patient_height_sm</th>\n",
              "      <th>patient_show</th>\n",
              "      <th>is_regular_visit</th>\n",
              "      <th>pat_diabetic_encoded</th>\n",
              "      <th>pat_allergic_encoded</th>\n",
              "      <th>pat_show_encoded</th>\n",
              "      <th>pat_regular_encoded</th>\n",
              "      <th>diagnosis_int</th>\n",
              "      <th>patient_gender_ind</th>\n",
              "    </tr>\n",
              "    <tr>\n",
              "      <th>labels</th>\n",
              "      <th></th>\n",
              "      <th></th>\n",
              "      <th></th>\n",
              "      <th></th>\n",
              "      <th></th>\n",
              "      <th></th>\n",
              "      <th></th>\n",
              "      <th></th>\n",
              "      <th></th>\n",
              "      <th></th>\n",
              "      <th></th>\n",
              "      <th></th>\n",
              "    </tr>\n",
              "  </thead>\n",
              "  <tbody>\n",
              "    <tr>\n",
              "      <th>0</th>\n",
              "      <td>0.562771</td>\n",
              "      <td>0.515152</td>\n",
              "      <td>97.696970</td>\n",
              "      <td>153.766234</td>\n",
              "      <td>0.493506</td>\n",
              "      <td>0.519481</td>\n",
              "      <td>0.562771</td>\n",
              "      <td>0.515152</td>\n",
              "      <td>0.493506</td>\n",
              "      <td>0.519481</td>\n",
              "      <td>0.575758</td>\n",
              "      <td>0.510823</td>\n",
              "    </tr>\n",
              "    <tr>\n",
              "      <th>1</th>\n",
              "      <td>0.494208</td>\n",
              "      <td>0.517375</td>\n",
              "      <td>63.104247</td>\n",
              "      <td>176.988417</td>\n",
              "      <td>0.463320</td>\n",
              "      <td>0.494208</td>\n",
              "      <td>0.494208</td>\n",
              "      <td>0.517375</td>\n",
              "      <td>0.463320</td>\n",
              "      <td>0.494208</td>\n",
              "      <td>0.459459</td>\n",
              "      <td>0.463320</td>\n",
              "    </tr>\n",
              "    <tr>\n",
              "      <th>2</th>\n",
              "      <td>0.505618</td>\n",
              "      <td>0.490637</td>\n",
              "      <td>94.029963</td>\n",
              "      <td>178.925094</td>\n",
              "      <td>0.501873</td>\n",
              "      <td>0.531835</td>\n",
              "      <td>0.505618</td>\n",
              "      <td>0.490637</td>\n",
              "      <td>0.501873</td>\n",
              "      <td>0.531835</td>\n",
              "      <td>0.509363</td>\n",
              "      <td>0.468165</td>\n",
              "    </tr>\n",
              "    <tr>\n",
              "      <th>3</th>\n",
              "      <td>0.506173</td>\n",
              "      <td>0.497942</td>\n",
              "      <td>65.637860</td>\n",
              "      <td>152.193416</td>\n",
              "      <td>0.514403</td>\n",
              "      <td>0.555556</td>\n",
              "      <td>0.506173</td>\n",
              "      <td>0.497942</td>\n",
              "      <td>0.514403</td>\n",
              "      <td>0.555556</td>\n",
              "      <td>0.510288</td>\n",
              "      <td>0.547325</td>\n",
              "    </tr>\n",
              "  </tbody>\n",
              "</table>\n",
              "</div>\n",
              "      <button class=\"colab-df-convert\" onclick=\"convertToInteractive('df-32c208be-db2c-4b85-85e4-214ea79be52a')\"\n",
              "              title=\"Convert this dataframe to an interactive table.\"\n",
              "              style=\"display:none;\">\n",
              "        \n",
              "  <svg xmlns=\"http://www.w3.org/2000/svg\" height=\"24px\"viewBox=\"0 0 24 24\"\n",
              "       width=\"24px\">\n",
              "    <path d=\"M0 0h24v24H0V0z\" fill=\"none\"/>\n",
              "    <path d=\"M18.56 5.44l.94 2.06.94-2.06 2.06-.94-2.06-.94-.94-2.06-.94 2.06-2.06.94zm-11 1L8.5 8.5l.94-2.06 2.06-.94-2.06-.94L8.5 2.5l-.94 2.06-2.06.94zm10 10l.94 2.06.94-2.06 2.06-.94-2.06-.94-.94-2.06-.94 2.06-2.06.94z\"/><path d=\"M17.41 7.96l-1.37-1.37c-.4-.4-.92-.59-1.43-.59-.52 0-1.04.2-1.43.59L10.3 9.45l-7.72 7.72c-.78.78-.78 2.05 0 2.83L4 21.41c.39.39.9.59 1.41.59.51 0 1.02-.2 1.41-.59l7.78-7.78 2.81-2.81c.8-.78.8-2.07 0-2.86zM5.41 20L4 18.59l7.72-7.72 1.47 1.35L5.41 20z\"/>\n",
              "  </svg>\n",
              "      </button>\n",
              "      \n",
              "  <style>\n",
              "    .colab-df-container {\n",
              "      display:flex;\n",
              "      flex-wrap:wrap;\n",
              "      gap: 12px;\n",
              "    }\n",
              "\n",
              "    .colab-df-convert {\n",
              "      background-color: #E8F0FE;\n",
              "      border: none;\n",
              "      border-radius: 50%;\n",
              "      cursor: pointer;\n",
              "      display: none;\n",
              "      fill: #1967D2;\n",
              "      height: 32px;\n",
              "      padding: 0 0 0 0;\n",
              "      width: 32px;\n",
              "    }\n",
              "\n",
              "    .colab-df-convert:hover {\n",
              "      background-color: #E2EBFA;\n",
              "      box-shadow: 0px 1px 2px rgba(60, 64, 67, 0.3), 0px 1px 3px 1px rgba(60, 64, 67, 0.15);\n",
              "      fill: #174EA6;\n",
              "    }\n",
              "\n",
              "    [theme=dark] .colab-df-convert {\n",
              "      background-color: #3B4455;\n",
              "      fill: #D2E3FC;\n",
              "    }\n",
              "\n",
              "    [theme=dark] .colab-df-convert:hover {\n",
              "      background-color: #434B5C;\n",
              "      box-shadow: 0px 1px 3px 1px rgba(0, 0, 0, 0.15);\n",
              "      filter: drop-shadow(0px 1px 2px rgba(0, 0, 0, 0.3));\n",
              "      fill: #FFFFFF;\n",
              "    }\n",
              "  </style>\n",
              "\n",
              "      <script>\n",
              "        const buttonEl =\n",
              "          document.querySelector('#df-32c208be-db2c-4b85-85e4-214ea79be52a button.colab-df-convert');\n",
              "        buttonEl.style.display =\n",
              "          google.colab.kernel.accessAllowed ? 'block' : 'none';\n",
              "\n",
              "        async function convertToInteractive(key) {\n",
              "          const element = document.querySelector('#df-32c208be-db2c-4b85-85e4-214ea79be52a');\n",
              "          const dataTable =\n",
              "            await google.colab.kernel.invokeFunction('convertToInteractive',\n",
              "                                                     [key], {});\n",
              "          if (!dataTable) return;\n",
              "\n",
              "          const docLinkHtml = 'Like what you see? Visit the ' +\n",
              "            '<a target=\"_blank\" href=https://colab.research.google.com/notebooks/data_table.ipynb>data table notebook</a>'\n",
              "            + ' to learn more about interactive tables.';\n",
              "          element.innerHTML = '';\n",
              "          dataTable['output_type'] = 'display_data';\n",
              "          await google.colab.output.renderOutput(dataTable, element);\n",
              "          const docLink = document.createElement('div');\n",
              "          docLink.innerHTML = docLinkHtml;\n",
              "          element.appendChild(docLink);\n",
              "        }\n",
              "      </script>\n",
              "    </div>\n",
              "  </div>\n",
              "  "
            ]
          },
          "metadata": {},
          "execution_count": 46
        }
      ],
      "source": [
        "# Your code here:\n",
        "patients.groupby('labels').mean()"
      ]
    },
    {
      "cell_type": "code",
      "execution_count": 35,
      "metadata": {
        "id": "PC8Ny8_60_5g"
      },
      "outputs": [],
      "source": [
        "# Your comment here:\n"
      ]
    },
    {
      "cell_type": "markdown",
      "metadata": {
        "id": "K4FeAiFa0_5g"
      },
      "source": [
        "# Bonus Challenge: Visualize K-Means Clusters\n",
        "\n",
        "How did k-means cluster the data? You can obtain an intuitive view with a scatter plot. Generate a 2-d cluster plot below using `matplotlib`. You need to choose 2 of the features from your cleaned and transformed dataset, and use color to represent the cluster label generated from k-means.\n",
        "\n",
        "If the scatter plot does not make any sense to you, it means the features you chose to visualize are not the right ones. You should be able to see 4 clear clusters with different colors in your visualization that suggests how k-means had clustered your data.\n",
        "\n",
        "![Cluster Visualization](https://github.com/saulrubio75/lab-sklearn-and-unsupervised-learning/blob/master/clusters.png?raw=1)"
      ]
    },
    {
      "cell_type": "code",
      "execution_count": 36,
      "metadata": {
        "id": "UJG70QKw0_5g"
      },
      "outputs": [],
      "source": [
        "# Your code here:\n"
      ]
    },
    {
      "cell_type": "markdown",
      "metadata": {
        "id": "jvdqtI0h0_5g"
      },
      "source": [
        "Additionally, you can visualize the clusters in 3-D scatter plot. Give it a try below."
      ]
    },
    {
      "cell_type": "code",
      "execution_count": 37,
      "metadata": {
        "id": "oRpX484g0_5h"
      },
      "outputs": [],
      "source": [
        "# Your code here:\n"
      ]
    }
  ],
  "metadata": {
    "kernelspec": {
      "display_name": "Python 3",
      "language": "python",
      "name": "python3"
    },
    "language_info": {
      "codemirror_mode": {
        "name": "ipython",
        "version": 3
      },
      "file_extension": ".py",
      "mimetype": "text/x-python",
      "name": "python",
      "nbconvert_exporter": "python",
      "pygments_lexer": "ipython3",
      "version": "3.7.1"
    },
    "colab": {
      "provenance": []
    }
  },
  "nbformat": 4,
  "nbformat_minor": 0
}